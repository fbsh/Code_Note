{
 "cells": [
  {
   "cell_type": "code",
   "execution_count": 1,
   "id": "4ba7e4c3-e56d-4eca-8ad7-02bcbf99f584",
   "metadata": {},
   "outputs": [
    {
     "data": {
      "text/html": [
       "<style>/* Styles used for the Hoogle display in the pager */\n",
       ".hoogle-doc {\n",
       "display: block;\n",
       "padding-bottom: 1.3em;\n",
       "padding-left: 0.4em;\n",
       "}\n",
       ".hoogle-code {\n",
       "display: block;\n",
       "font-family: monospace;\n",
       "white-space: pre;\n",
       "}\n",
       ".hoogle-text {\n",
       "display: block;\n",
       "}\n",
       ".hoogle-name {\n",
       "color: green;\n",
       "font-weight: bold;\n",
       "}\n",
       ".hoogle-head {\n",
       "font-weight: bold;\n",
       "}\n",
       ".hoogle-sub {\n",
       "display: block;\n",
       "margin-left: 0.4em;\n",
       "}\n",
       ".hoogle-package {\n",
       "font-weight: bold;\n",
       "font-style: italic;\n",
       "}\n",
       ".hoogle-module {\n",
       "font-weight: bold;\n",
       "}\n",
       ".hoogle-class {\n",
       "font-weight: bold;\n",
       "}\n",
       ".get-type {\n",
       "color: green;\n",
       "font-weight: bold;\n",
       "font-family: monospace;\n",
       "display: block;\n",
       "white-space: pre-wrap;\n",
       "}\n",
       ".show-type {\n",
       "color: green;\n",
       "font-weight: bold;\n",
       "font-family: monospace;\n",
       "margin-left: 1em;\n",
       "}\n",
       ".mono {\n",
       "font-family: monospace;\n",
       "display: block;\n",
       "}\n",
       ".err-msg {\n",
       "color: red;\n",
       "font-style: italic;\n",
       "font-family: monospace;\n",
       "white-space: pre;\n",
       "display: block;\n",
       "}\n",
       "#unshowable {\n",
       "color: red;\n",
       "font-weight: bold;\n",
       "}\n",
       ".err-msg.in.collapse {\n",
       "padding-top: 0.7em;\n",
       "}\n",
       ".highlight-code {\n",
       "white-space: pre;\n",
       "font-family: monospace;\n",
       "}\n",
       ".suggestion-warning { \n",
       "font-weight: bold;\n",
       "color: rgb(200, 130, 0);\n",
       "}\n",
       ".suggestion-error { \n",
       "font-weight: bold;\n",
       "color: red;\n",
       "}\n",
       ".suggestion-name {\n",
       "font-weight: bold;\n",
       "}\n",
       "</style><div class=\"suggestion-name\" style=\"clear:both;\">Evaluate</div><div class=\"suggestion-row\" style=\"float: left;\"><div class=\"suggestion-warning\">Found:</div><div class=\"highlight-code\" id=\"haskell\">False || True</div></div><div class=\"suggestion-row\" style=\"float: left;\"><div class=\"suggestion-warning\">Why Not:</div><div class=\"highlight-code\" id=\"haskell\">True</div></div>"
      ],
      "text/plain": [
       "Line 1: Evaluate\n",
       "Found:\n",
       "False || True\n",
       "Why not:\n",
       "True"
      ]
     },
     "metadata": {},
     "output_type": "display_data"
    },
    {
     "data": {
      "text/plain": [
       "True"
      ]
     },
     "metadata": {},
     "output_type": "display_data"
    }
   ],
   "source": [
    "False || True"
   ]
  },
  {
   "cell_type": "code",
   "execution_count": 2,
   "id": "5e1f6f84-dba4-4a70-a4b3-53889ed2590f",
   "metadata": {},
   "outputs": [
    {
     "data": {
      "text/plain": [
       "9"
      ]
     },
     "metadata": {},
     "output_type": "display_data"
    }
   ],
   "source": [
    "succ 8"
   ]
  },
  {
   "cell_type": "code",
   "execution_count": 3,
   "id": "c8f63f15-385e-4fe6-bcb9-e4787370db7b",
   "metadata": {},
   "outputs": [],
   "source": [
    "doubleMe x = x + x"
   ]
  },
  {
   "cell_type": "code",
   "execution_count": 4,
   "id": "8c80bcc4-22be-4ce4-92a7-83790057b20f",
   "metadata": {},
   "outputs": [
    {
     "data": {
      "text/plain": [
       "10"
      ]
     },
     "metadata": {},
     "output_type": "display_data"
    }
   ],
   "source": [
    "doubleMe 5"
   ]
  },
  {
   "cell_type": "code",
   "execution_count": 5,
   "id": "fbf46b3d-19c2-43af-9a43-cfba902aa640",
   "metadata": {},
   "outputs": [],
   "source": [
    "doubleUs x y = x*2 + y*2"
   ]
  },
  {
   "cell_type": "code",
   "execution_count": 6,
   "id": "a1a7fd23-08c7-4032-829e-a365df3a0271",
   "metadata": {},
   "outputs": [
    {
     "data": {
      "text/plain": [
       "30"
      ]
     },
     "metadata": {},
     "output_type": "display_data"
    }
   ],
   "source": [
    "doubleUs 5 10"
   ]
  },
  {
   "cell_type": "code",
   "execution_count": 7,
   "id": "9b1cf1e7-d63d-46ec-9283-dbbab14eafa6",
   "metadata": {},
   "outputs": [
    {
     "data": {
      "text/plain": [
       "[2,4,6,8,10,12,14,16,18,20]"
      ]
     },
     "metadata": {},
     "output_type": "display_data"
    }
   ],
   "source": [
    "[x*2 | x <- [1..10]]"
   ]
  },
  {
   "cell_type": "code",
   "execution_count": 8,
   "id": "53457d64-b252-4f65-b1b3-b1e88a642b46",
   "metadata": {},
   "outputs": [
    {
     "data": {
      "text/plain": [
       "[52,59,66,73,80,87,94]"
      ]
     },
     "metadata": {},
     "output_type": "display_data"
    }
   ],
   "source": [
    "[ x | x <- [50..100], x `mod` 7 == 3]"
   ]
  },
  {
   "cell_type": "code",
   "execution_count": 9,
   "id": "832daf7e-33dd-4b2f-bac2-30adee457244",
   "metadata": {},
   "outputs": [],
   "source": [
    "let rightTriangles = [ (a,b,c) | c <- [1..10], a <- [1..c], b <- [1..a], a^2 + b^2 == c^2]"
   ]
  },
  {
   "cell_type": "code",
   "execution_count": 10,
   "id": "632225cf-bfd7-426e-96b1-e8d22a8912a2",
   "metadata": {},
   "outputs": [],
   "source": [
    "let rightTriangles' = [ (a,b,c) | c <- [1..10], a <- [1..c], b <- [1..a], a^2 + b^2 == c^2, a+b+c == 24]"
   ]
  },
  {
   "cell_type": "code",
   "execution_count": 11,
   "id": "608624f7-51a6-46a0-8275-f9989979a097",
   "metadata": {},
   "outputs": [
    {
     "data": {
      "text/plain": [
       "[(8,6,10)]"
      ]
     },
     "metadata": {},
     "output_type": "display_data"
    }
   ],
   "source": [
    "rightTriangles'"
   ]
  },
  {
   "cell_type": "code",
   "execution_count": 12,
   "id": "c4b450e6-3d75-4ba2-9581-fd49bd4079fd",
   "metadata": {},
   "outputs": [],
   "source": [
    "module NewtonMethod where\n",
    "\n",
    "-- | sqrt by Newton's method.\n",
    "-- >>> sqrtIter 1 2\n",
    "-- 1.4142156862745097\n",
    "--\n",
    "-- prop> abs ((sqrtIter n)^2 - n) < 0.01\n",
    "\n",
    "sqrtIter :: Double -> Double -> Double\n",
    "sqrtIter guess x = if goodEnough guess x then guess\n",
    "                                         else sqrtIter (improv guess x) x\n",
    "\n",
    "threshold :: Double\n",
    "threshold = 0.00001\n",
    "\n",
    "improv :: Double -> Double -> Double\n",
    "improv guess x = average guess (x/guess)\n",
    "\n",
    "average :: Double -> Double -> Double\n",
    "average = ((/ 2) .) . (+)\n",
    "\n",
    "goodEnough :: Double -> Double -> Bool\n",
    "goodEnough guess x = abs (x - guess^2) < threshold\n",
    "\n",
    "main = do\n",
    "    print $ sqrtIter 1 2\n",
    "    print $ sqrtIter 1 3\n",
    "    print $ sqrtIter 1 320"
   ]
  },
  {
   "cell_type": "code",
   "execution_count": 13,
   "id": "3c935430-accc-453b-92ca-36e1dedad38a",
   "metadata": {},
   "outputs": [],
   "source": [
    "data Vec = Vec { xComp :: Double, yComp :: Double, zComp :: Double }"
   ]
  },
  {
   "cell_type": "code",
   "execution_count": 17,
   "id": "a3c2bc03-a208-4ed8-b4df-37500bd899ed",
   "metadata": {},
   "outputs": [
    {
     "data": {
      "text/plain": [
       "0.4612695550331807"
      ]
     },
     "metadata": {},
     "output_type": "display_data"
    }
   ],
   "source": [
    "sin (sin 0.5)"
   ]
  },
  {
   "cell_type": "code",
   "execution_count": 21,
   "id": "c451aa6d-7435-4daa-9545-82e874bb55c4",
   "metadata": {},
   "outputs": [
    {
     "data": {
      "text/plain": [
       "9"
      ]
     },
     "metadata": {},
     "output_type": "display_data"
    }
   ],
   "source": [
    "let x = 3 in x*x"
   ]
  },
  {
   "cell_type": "code",
   "execution_count": null,
   "id": "6b55dd26-8d93-4cd9-9274-99b04182100a",
   "metadata": {},
   "outputs": [],
   "source": []
  }
 ],
 "metadata": {
  "kernelspec": {
   "display_name": "Haskell",
   "language": "haskell",
   "name": "haskell"
  },
  "language_info": {
   "codemirror_mode": "Haskell",
   "file_extension": ".hs",
   "mimetype": "text/x-haskell",
   "name": "haskell",
   "pygments_lexer": "Haskell",
   "version": "8.10.4"
  }
 },
 "nbformat": 4,
 "nbformat_minor": 5
}
