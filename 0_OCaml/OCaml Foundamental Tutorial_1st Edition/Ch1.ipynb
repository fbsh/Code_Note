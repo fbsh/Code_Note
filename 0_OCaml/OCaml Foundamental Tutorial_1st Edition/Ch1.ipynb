{
 "cells": [
  {
   "cell_type": "code",
   "execution_count": 1,
   "metadata": {},
   "outputs": [
    {
     "name": "stderr",
     "output_type": "stream",
     "text": [
      "/home/f/.opam/4.11.1/lib/base/base_internalhash_types: added to search path\n",
      "/home/f/.opam/4.11.1/lib/base/base_internalhash_types/base_internalhash_types.cma: loaded\n",
      "/home/f/.opam/4.11.1/lib/base/caml: added to search path\n",
      "/home/f/.opam/4.11.1/lib/base/caml/caml.cma: loaded\n",
      "/home/f/.opam/4.11.1/lib/base/shadow_stdlib: added to search path\n",
      "/home/f/.opam/4.11.1/lib/base/shadow_stdlib/shadow_stdlib.cma: loaded\n",
      "/home/f/.opam/4.11.1/lib/sexplib0: added to search path\n",
      "/home/f/.opam/4.11.1/lib/sexplib0/sexplib0.cma: loaded\n",
      "/home/f/.opam/4.11.1/lib/base: added to search path\n",
      "/home/f/.opam/4.11.1/lib/base/base.cma: loaded\n"
     ]
    }
   ],
   "source": [
    "#require \"base\"\n",
    "open Base\n",
    ";;"
   ]
  },
  {
   "cell_type": "code",
   "execution_count": 6,
   "metadata": {},
   "outputs": [
    {
     "data": {
      "text/plain": [
       "val languages : string = \"OCaml,Perl,C++,C\"\n"
      ]
     },
     "execution_count": 6,
     "metadata": {},
     "output_type": "execute_result"
    },
    {
     "data": {
      "text/plain": [
       "val dashed_languages : Base.String.t = \"OCaml-Perl-C++-C\"\n"
      ]
     },
     "execution_count": 6,
     "metadata": {},
     "output_type": "execute_result"
    }
   ],
   "source": [
    "let languages = \"OCaml,Perl,C++,C\";;\n",
    "let dashed_languages =\n",
    "  let languages = String.split languages ~on:',' in\n",
    "  String.concat ~sep:\"-\" languages\n",
    ";;"
   ]
  },
  {
   "cell_type": "code",
   "execution_count": 7,
   "metadata": {},
   "outputs": [
    {
     "data": {
      "text/plain": [
       "- : bool = true\n"
      ]
     },
     "execution_count": 7,
     "metadata": {},
     "output_type": "execute_result"
    }
   ],
   "source": [
    "3 * 5 > 14;;"
   ]
  },
  {
   "cell_type": "code",
   "execution_count": 8,
   "metadata": {},
   "outputs": [
    {
     "data": {
      "text/plain": [
       "val square : Base.Int.t -> Base.Int.t = <fun>\n"
      ]
     },
     "execution_count": 8,
     "metadata": {},
     "output_type": "execute_result"
    }
   ],
   "source": [
    "let square x = x * x;;"
   ]
  },
  {
   "cell_type": "code",
   "execution_count": 2,
   "metadata": {},
   "outputs": [
    {
     "data": {
      "text/plain": [
       "val first_if_true : ('a -> bool) -> 'a -> 'a -> 'a = <fun>\n"
      ]
     },
     "execution_count": 2,
     "metadata": {},
     "output_type": "execute_result"
    }
   ],
   "source": [
    "let first_if_true test x y =\n",
    "  if test x then x else y\n",
    ";;"
   ]
  },
  {
   "cell_type": "code",
   "execution_count": 3,
   "metadata": {},
   "outputs": [
    {
     "data": {
      "text/plain": [
       "val a_tuple : int * string = (3, \"three\")\n"
      ]
     },
     "execution_count": 3,
     "metadata": {},
     "output_type": "execute_result"
    }
   ],
   "source": [
    "let a_tuple = (3,\"three\");;"
   ]
  },
  {
   "cell_type": "code",
   "execution_count": null,
   "metadata": {},
   "outputs": [],
   "source": []
  }
 ],
 "metadata": {
  "kernelspec": {
   "display_name": "OCaml 4.11.1",
   "language": "OCaml",
   "name": "ocaml-jupyter"
  },
  "language_info": {
   "codemirror_mode": "text/x-ocaml",
   "file_extension": ".ml",
   "mimetype": "text/x-ocaml",
   "name": "OCaml",
   "nbconverter_exporter": null,
   "pygments_lexer": "OCaml",
   "version": "4.11.1"
  }
 },
 "nbformat": 4,
 "nbformat_minor": 4
}
