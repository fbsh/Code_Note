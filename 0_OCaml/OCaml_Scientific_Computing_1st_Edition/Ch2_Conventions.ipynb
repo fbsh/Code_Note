{
 "cells": [
  {
   "cell_type": "code",
   "execution_count": 2,
   "id": "358ab004",
   "metadata": {},
   "outputs": [
    {
     "name": "stdout",
     "output_type": "stream",
     "text": [
      "Raised at Stdlib.invalid_arg in file \"stdlib.ml\", line 30, characters 20-45\n",
      "Called from Toploop in file \"toplevel/toploop.ml\", line 516, characters 2-159\n",
      "Called from Topdirs.load_compunit in file \"toplevel/topdirs.ml\", line 153, characters 11-23\n",
      "\n",
      "- : unit = ()\n",
      "Findlib has been successfully loaded. Additional directives:\n",
      "  #require \"package\";;      to load a package\n",
      "  #list;;                   to list the available packages\n",
      "  #camlp4o;;                to load camlp4 (standard syntax)\n",
      "  #camlp4r;;                to load camlp4 (revised syntax)\n",
      "  #predicates \"p,q,...\";;   to set these predicates\n",
      "  Topfind.reset();;         to force that packages will be reloaded\n",
      "  #thread;;                 to enable threads\n",
      "\n",
      "- : unit = ()\n"
     ]
    }
   ],
   "source": [
    "#use \"topfind\"\n",
    "#require \"owl-jupyter\"\n",
    "open Owl_jupyter\n",
    "open Owl;;"
   ]
  },
  {
   "cell_type": "code",
   "execution_count": 2,
   "id": "1caf5b92",
   "metadata": {},
   "outputs": [
    {
     "data": {
      "text/plain": [
       "- : Owl.Arr.arr -> Owl.Arr.arr = <fun>\n"
      ]
     },
     "execution_count": 2,
     "metadata": {},
     "output_type": "execute_result"
    },
    {
     "data": {
      "text/plain": [
       "- : Owl.Arr.arr -> Owl.Arr.arr = <fun>\n"
      ]
     },
     "execution_count": 2,
     "metadata": {},
     "output_type": "execute_result"
    },
    {
     "data": {
      "text/plain": [
       "- : Owl.Arr.arr -> Owl.Arr.arr = <fun>\n"
      ]
     },
     "execution_count": 2,
     "metadata": {},
     "output_type": "execute_result"
    },
    {
     "data": {
      "text/plain": [
       "- : Owl.Arr.arr -> Owl.Arr.arr = <fun>\n"
      ]
     },
     "execution_count": 2,
     "metadata": {},
     "output_type": "execute_result"
    },
    {
     "data": {
      "text/plain": [
       "- : Owl.Arr.arr -> Owl.Arr.arr -> Owl.Arr.arr = <fun>\n"
      ]
     },
     "execution_count": 2,
     "metadata": {},
     "output_type": "execute_result"
    },
    {
     "data": {
      "text/plain": [
       "- : Owl.Arr.arr -> Owl.Arr.arr -> Owl.Arr.arr = <fun>\n"
      ]
     },
     "execution_count": 2,
     "metadata": {},
     "output_type": "execute_result"
    }
   ],
   "source": [
    "Arr.sin;;\n",
    "Arr.cos;;\n",
    "Arr.log;;\n",
    "Arr.abs;;\n",
    "Arr.add;;\n",
    "Arr.mul;;"
   ]
  },
  {
   "cell_type": "code",
   "execution_count": 3,
   "id": "fe906702",
   "metadata": {},
   "outputs": [
    {
     "data": {
      "text/plain": [
       "- : ?out:Owl.Arr.arr -> Owl.Arr.arr -> unit = <fun>\n"
      ]
     },
     "execution_count": 3,
     "metadata": {},
     "output_type": "execute_result"
    },
    {
     "data": {
      "text/plain": [
       "- : ?out:Owl.Arr.arr -> Owl.Arr.arr -> unit = <fun>\n"
      ]
     },
     "execution_count": 3,
     "metadata": {},
     "output_type": "execute_result"
    },
    {
     "data": {
      "text/plain": [
       "- : ?out:Owl.Arr.arr -> Owl.Arr.arr -> unit = <fun>\n"
      ]
     },
     "execution_count": 3,
     "metadata": {},
     "output_type": "execute_result"
    },
    {
     "data": {
      "text/plain": [
       "- : ?out:Owl.Arr.arr -> Owl.Arr.arr -> unit = <fun>\n"
      ]
     },
     "execution_count": 3,
     "metadata": {},
     "output_type": "execute_result"
    },
    {
     "data": {
      "text/plain": [
       "- : ?out:Owl.Arr.arr -> Owl.Arr.arr -> Owl.Arr.arr -> unit = <fun>\n"
      ]
     },
     "execution_count": 3,
     "metadata": {},
     "output_type": "execute_result"
    },
    {
     "data": {
      "text/plain": [
       "- : ?out:Owl.Arr.arr -> Owl.Arr.arr -> Owl.Arr.arr -> unit = <fun>\n"
      ]
     },
     "execution_count": 3,
     "metadata": {},
     "output_type": "execute_result"
    }
   ],
   "source": [
    "Arr.sin_;;\n",
    "Arr.cos_;;\n",
    "Arr.log_;;\n",
    "Arr.abs_;;\n",
    "Arr.add_;;\n",
    "Arr.mul_;;"
   ]
  },
  {
   "cell_type": "code",
   "execution_count": 4,
   "id": "b5d02710",
   "metadata": {},
   "outputs": [
    {
     "data": {
      "text/plain": [
       "val add1 : float -> float = <fun>\n"
      ]
     },
     "execution_count": 4,
     "metadata": {},
     "output_type": "execute_result"
    },
    {
     "data": {
      "text/plain": [
       "- : float = 3.\n"
      ]
     },
     "execution_count": 4,
     "metadata": {},
     "output_type": "execute_result"
    }
   ],
   "source": [
    "let add1 x = x +. 1.;;\n",
    "add1 2. ;;"
   ]
  },
  {
   "cell_type": "code",
   "execution_count": 5,
   "id": "dc35135d",
   "metadata": {},
   "outputs": [
    {
     "ename": "error",
     "evalue": "compile_error",
     "output_type": "error",
     "traceback": [
      "File \"[5]\", line 1, characters 8-10:\n1 | Arr.sin pi\n            ^^\nError: Unbound value pi\n"
     ]
    }
   ],
   "source": [
    "Arr.sin pi"
   ]
  },
  {
   "cell_type": "code",
   "execution_count": 6,
   "id": "051d2d31",
   "metadata": {},
   "outputs": [
    {
     "data": {
      "text/plain": [
       "val pi : float = 3.14159265358979312\n"
      ]
     },
     "execution_count": 6,
     "metadata": {},
     "output_type": "execute_result"
    },
    {
     "data": {
      "text/plain": [
       "- : float = 3.14159265358979312\n"
      ]
     },
     "execution_count": 6,
     "metadata": {},
     "output_type": "execute_result"
    }
   ],
   "source": [
    "let pi = Float.pi ;;\n",
    "pi"
   ]
  },
  {
   "cell_type": "code",
   "execution_count": 7,
   "id": "7bd2cc43",
   "metadata": {},
   "outputs": [
    {
     "ename": "error",
     "evalue": "compile_error",
     "output_type": "error",
     "traceback": [
      "File \"[7]\", line 1, characters 9-10:\n1 | Arr.add_ 1 + 2;;\n             ^\nError: This expression has type int but an expression was expected of type\n         Owl.Arr.arr =\n           (float, Bigarray.float64_elt, Bigarray.c_layout)\n           Bigarray.Genarray.t\n"
     ]
    }
   ],
   "source": [
    "Arr.add_ 1 + 2;;"
   ]
  },
  {
   "cell_type": "code",
   "execution_count": 8,
   "id": "bc65fe43",
   "metadata": {},
   "outputs": [
    {
     "data": {
      "text/plain": [
       "val x : Owl.Arr.arr =\n",
       "  \n",
       "       C0 C1 C2 \n",
       "R[0,0]  0  1  2 \n",
       "R[0,1]  3  4  5 \n",
       "R[0,2]  6  7  8 \n",
       "R[1,0]  9 10 11 \n",
       "R[1,1] 12 13 14 \n",
       "R[1,2] 15 16 17 \n",
       "R[2,0] 18 19 20 \n",
       "R[2,1] 21 22 23 \n",
       "R[2,2] 24 25 26 \n",
       "\n"
      ]
     },
     "execution_count": 8,
     "metadata": {},
     "output_type": "execute_result"
    },
    {
     "data": {
      "text/plain": [
       "val a : Owl.Arr.arr =\n",
       "  \n",
       "       C0 C1 C2 \n",
       "R[0,0]  9 12 15 \n",
       "R[1,0] 36 39 42 \n",
       "R[2,0] 63 66 69 \n",
       "\n"
      ]
     },
     "execution_count": 8,
     "metadata": {},
     "output_type": "execute_result"
    },
    {
     "data": {
      "text/plain": [
       "val b : Owl.Arr.arr = \n",
       "   C0 \n",
       "R 351 \n",
       "\n"
      ]
     },
     "execution_count": 8,
     "metadata": {},
     "output_type": "execute_result"
    }
   ],
   "source": [
    "let x = Arr.sequential [|3;3;3|];;\n",
    "let a = Arr.sum ~axis:1 x;;\n",
    "let b = Arr.sum x;;"
   ]
  },
  {
   "cell_type": "code",
   "execution_count": 9,
   "id": "36962fbc",
   "metadata": {},
   "outputs": [
    {
     "data": {
      "text/plain": [
       "- : float = 361.\n"
      ]
     },
     "execution_count": 9,
     "metadata": {},
     "output_type": "execute_result"
    }
   ],
   "source": [
    "let c = Arr.get b [|0|] in\n",
    "c +. 10.;;"
   ]
  },
  {
   "cell_type": "code",
   "execution_count": 10,
   "id": "2b679c2f",
   "metadata": {},
   "outputs": [
    {
     "data": {
      "text/plain": [
       "- : ?axis:int -> ?keep_dims:bool -> Owl.Arr.arr -> Owl.Arr.arr = <fun>\n"
      ]
     },
     "execution_count": 10,
     "metadata": {},
     "output_type": "execute_result"
    },
    {
     "data": {
      "text/plain": [
       "- : ?axis:int -> ?keep_dims:bool -> Owl.Arr.arr -> Owl.Arr.arr = <fun>\n"
      ]
     },
     "execution_count": 10,
     "metadata": {},
     "output_type": "execute_result"
    },
    {
     "data": {
      "text/plain": [
       "- : ?axis:int -> ?keep_dims:bool -> Owl.Arr.arr -> Owl.Arr.arr = <fun>\n"
      ]
     },
     "execution_count": 10,
     "metadata": {},
     "output_type": "execute_result"
    },
    {
     "data": {
      "text/plain": [
       "- : ?axis:int -> ?keep_dims:bool -> Owl.Arr.arr -> Owl.Arr.arr = <fun>\n"
      ]
     },
     "execution_count": 10,
     "metadata": {},
     "output_type": "execute_result"
    },
    {
     "data": {
      "text/plain": [
       "- : ?axis:int -> ?keep_dims:bool -> Owl.Arr.arr -> Owl.Arr.arr = <fun>\n"
      ]
     },
     "execution_count": 10,
     "metadata": {},
     "output_type": "execute_result"
    }
   ],
   "source": [
    "Arr.sum;;\n",
    "Arr.min;;\n",
    "Arr.prod;;\n",
    "Arr.mean;;\n",
    "Arr.std;;"
   ]
  },
  {
   "cell_type": "code",
   "execution_count": 11,
   "id": "4f1e9746",
   "metadata": {},
   "outputs": [
    {
     "data": {
      "text/plain": [
       "- : Owl.Arr.arr -> Owl.Arr.elt = <fun>\n"
      ]
     },
     "execution_count": 11,
     "metadata": {},
     "output_type": "execute_result"
    },
    {
     "data": {
      "text/plain": [
       "- : Owl.Arr.arr -> Owl.Arr.elt = <fun>\n"
      ]
     },
     "execution_count": 11,
     "metadata": {},
     "output_type": "execute_result"
    },
    {
     "data": {
      "text/plain": [
       "- : Owl.Arr.arr -> Owl.Arr.elt = <fun>\n"
      ]
     },
     "execution_count": 11,
     "metadata": {},
     "output_type": "execute_result"
    },
    {
     "data": {
      "text/plain": [
       "- : Owl.Arr.arr -> Owl.Arr.elt = <fun>\n"
      ]
     },
     "execution_count": 11,
     "metadata": {},
     "output_type": "execute_result"
    },
    {
     "data": {
      "text/plain": [
       "- : Owl.Arr.arr -> Owl.Arr.elt = <fun>\n"
      ]
     },
     "execution_count": 11,
     "metadata": {},
     "output_type": "execute_result"
    }
   ],
   "source": [
    "Arr.sum';;\n",
    "Arr.min';;\n",
    "Arr.prod';;\n",
    "Arr.mean';;\n",
    "Arr.std';;"
   ]
  },
  {
   "cell_type": "code",
   "execution_count": 12,
   "id": "87a909cb",
   "metadata": {},
   "outputs": [
    {
     "data": {
      "text/plain": [
       "val sum' : Owl.Arr.arr -> Owl.Arr.elt = <fun>\n"
      ]
     },
     "execution_count": 12,
     "metadata": {},
     "output_type": "execute_result"
    }
   ],
   "source": [
    "let sum' x =\n",
    "  let y = Arr.sum x in\n",
    "  Arr.get y [|0|]"
   ]
  },
  {
   "cell_type": "code",
   "execution_count": 13,
   "id": "2abc3633",
   "metadata": {},
   "outputs": [
    {
     "data": {
      "text/plain": [
       "val x : Owl.Arr.arr =\n",
       "  \n",
       "       C0 C1 C2 \n",
       "R[0,0]  0  1  2 \n",
       "R[0,1]  3  4  5 \n",
       "R[0,2]  6  7  8 \n",
       "R[1,0]  9 10 11 \n",
       "R[1,1] 12 13 14 \n",
       "R[1,2] 15 16 17 \n",
       "R[2,0] 18 19 20 \n",
       "R[2,1] 21 22 23 \n",
       "R[2,2] 24 25 26 \n",
       "\n"
      ]
     },
     "execution_count": 13,
     "metadata": {},
     "output_type": "execute_result"
    },
    {
     "data": {
      "text/plain": [
       "val a : Owl.Arr.arr =\n",
       "  \n",
       "       C0 C1 C2 \n",
       "R[0,0]  9 12 15 \n",
       "R[1,0] 36 39 42 \n",
       "R[2,0] 63 66 69 \n",
       "\n"
      ]
     },
     "execution_count": 13,
     "metadata": {},
     "output_type": "execute_result"
    },
    {
     "data": {
      "text/plain": [
       "val b : Owl.Arr.arr = \n",
       "   C0 \n",
       "R 351 \n",
       "\n"
      ]
     },
     "execution_count": 13,
     "metadata": {},
     "output_type": "execute_result"
    },
    {
     "data": {
      "text/plain": [
       "val c : Owl.Arr.elt = 351.\n"
      ]
     },
     "execution_count": 13,
     "metadata": {},
     "output_type": "execute_result"
    }
   ],
   "source": [
    "let x = Arr.sequential [|3;3;3|];;\n",
    "let a = Arr.sum ~axis:1 x;;\n",
    "let b = Arr.sum x;;\n",
    "let c = Arr.sum' x;;"
   ]
  },
  {
   "cell_type": "code",
   "execution_count": 14,
   "id": "437ddd23",
   "metadata": {},
   "outputs": [
    {
     "data": {
      "text/plain": [
       "val x : Owl.Mat.mat =\n",
       "  \n",
       "         C0        C1       C2       C3        C4 \n",
       "R0 0.198986  0.416355 0.981459 0.882945  0.487676 \n",
       "R1  0.54008  0.115337 0.293368 0.901896  0.222425 \n",
       "R2 0.728164  0.680762 0.651267 0.405861 0.0816175 \n",
       "R3 0.711949 0.0553727 0.390911 0.343194  0.752683 \n",
       "R4 0.345582  0.144081 0.772543 0.722959  0.667504 \n",
       "\n"
      ]
     },
     "execution_count": 14,
     "metadata": {},
     "output_type": "execute_result"
    },
    {
     "data": {
      "text/plain": [
       "val y : Owl.Mat.mat =\n",
       "  \n",
       "         C0        C1       C2       C3        C4 \n",
       "R0 0.491094  0.605733  0.73586 0.336519  0.732273 \n",
       "R1 0.330411  0.389206 0.316595 0.340629  0.408921 \n",
       "R2 0.381063 0.0345722 0.845292 0.501965  0.460936 \n",
       "R3 0.359741  0.356147 0.398033 0.020837  0.755327 \n",
       "R4 0.669572  0.189298  0.67078  0.90488 0.0818398 \n",
       "\n"
      ]
     },
     "execution_count": 14,
     "metadata": {},
     "output_type": "execute_result"
    },
    {
     "data": {
      "text/plain": [
       "- : (float, Bigarray.float64_elt) Owl_dense_matrix_generic.t =\n",
       "\n",
       "         C0       C1       C2       C3       C4 \n",
       "R0 0.690081  1.02209  1.71732  1.21946  1.21995 \n",
       "R1 0.870491 0.504544 0.609963  1.24252 0.631346 \n",
       "R2  1.10923 0.715334  1.49656 0.907826 0.542554 \n",
       "R3  1.07169  0.41152 0.788944 0.364031  1.50801 \n",
       "R4  1.01515 0.333379  1.44332  1.62784 0.749344 \n",
       "\n"
      ]
     },
     "execution_count": 14,
     "metadata": {},
     "output_type": "execute_result"
    },
    {
     "data": {
      "text/plain": [
       "- : (float, Bigarray.float64_elt) Owl_dense_matrix_generic.t =\n",
       "\n",
       "         C0        C1        C2         C3        C4 \n",
       "R0 0.097721    0.2522  0.722217   0.297128  0.357112 \n",
       "R1 0.178448   0.04489 0.0928788   0.307212 0.0909544 \n",
       "R2 0.277476 0.0235354  0.550511   0.203728 0.0376205 \n",
       "R3 0.256117 0.0197208  0.155595 0.00715114  0.568521 \n",
       "R4 0.231392 0.0272743  0.518206   0.654191 0.0546284 \n",
       "\n"
      ]
     },
     "execution_count": 14,
     "metadata": {},
     "output_type": "execute_result"
    },
    {
     "data": {
      "text/plain": [
       "- : (float, Bigarray.float64_elt) Owl_dense_matrix_generic.t =\n",
       "\n",
       "         C0       C1       C2       C3       C4 \n",
       "R0 0.452539 0.588162 0.986323 0.958971 0.591054 \n",
       "R1 0.815833 0.431432 0.678243 0.965439 0.540817 \n",
       "R2 0.886137 0.986793  0.69594 0.635945 0.315066 \n",
       "R3 0.884952 0.356803 0.688071 0.977962 0.806866 \n",
       "R4 0.490938 0.692989 0.841048 0.745616 0.967461 \n",
       "\n"
      ]
     },
     "execution_count": 14,
     "metadata": {},
     "output_type": "execute_result"
    },
    {
     "data": {
      "text/plain": [
       "- : (float, Bigarray.float64_elt) Owl_dense_matrix_generic.t =\n",
       "\n",
       "         C0       C1      C2       C3      C4 \n",
       "R0  1.25345 0.723286 1.78643  1.16113 1.47518 \n",
       "R1 0.888509 0.745489  1.1901 0.588356  1.2773 \n",
       "R2  1.03136 0.888542 1.51816 0.886152 1.42502 \n",
       "R3  1.14433 0.731026 1.51335  1.14291 1.04499 \n",
       "R4  1.21873 0.675954 1.68845  1.17224 1.26877 \n",
       "\n"
      ]
     },
     "execution_count": 14,
     "metadata": {},
     "output_type": "execute_result"
    },
    {
     "data": {
      "text/plain": [
       "- : bool = false\n"
      ]
     },
     "execution_count": 14,
     "metadata": {},
     "output_type": "execute_result"
    },
    {
     "data": {
      "text/plain": [
       "- : (float, Bigarray.float64_elt) Owl_dense_matrix_generic.t =\n",
       "\n",
       "   C0 C1 C2 C3 C4 \n",
       "R0  0  0  1  1  0 \n",
       "R1  1  0  0  1  0 \n",
       "R2  1  1  0  0  0 \n",
       "R3  1  0  0  1  0 \n",
       "R4  0  0  1  0  1 \n",
       "\n"
      ]
     },
     "execution_count": 14,
     "metadata": {},
     "output_type": "execute_result"
    }
   ],
   "source": [
    "let x = Mat.uniform 5 5;;\n",
    "let y = Mat.uniform 5 5;;\n",
    "\n",
    "Mat.(x + y);;\n",
    "Mat.(x * y);;\n",
    "Mat.(x ** y);;\n",
    "Mat.(x *@ y);;\n",
    "\n",
    "(* compare the returns of the following two *)\n",
    "\n",
    "Mat.(x > y);;\n",
    "Mat.(x >. y);;"
   ]
  },
  {
   "cell_type": "code",
   "execution_count": 15,
   "id": "bf3cedce",
   "metadata": {},
   "outputs": [
    {
     "data": {
      "text/plain": [
       "- : bool = false\n"
      ]
     },
     "execution_count": 15,
     "metadata": {},
     "output_type": "execute_result"
    }
   ],
   "source": [
    "Mat.(x > y);;"
   ]
  },
  {
   "cell_type": "code",
   "execution_count": 16,
   "id": "570cfd64",
   "metadata": {},
   "outputs": [
    {
     "data": {
      "text/plain": [
       "- : (float, Bigarray.float64_elt) Owl_dense_matrix_generic.t =\n",
       "\n",
       "   C0 C1 C2 C3 C4 \n",
       "R0  0  0  1  1  0 \n",
       "R1  1  0  0  1  0 \n",
       "R2  1  1  0  0  0 \n",
       "R3  1  0  0  1  0 \n",
       "R4  0  0  1  0  1 \n",
       "\n"
      ]
     },
     "execution_count": 16,
     "metadata": {},
     "output_type": "execute_result"
    }
   ],
   "source": [
    "Mat.(x >. y);;"
   ]
  },
  {
   "cell_type": "code",
   "execution_count": null,
   "id": "2db960bc",
   "metadata": {},
   "outputs": [],
   "source": []
  }
 ],
 "metadata": {
  "kernelspec": {
   "display_name": "OCaml 4.11.1",
   "language": "OCaml",
   "name": "ocaml-jupyter"
  },
  "language_info": {
   "codemirror_mode": "text/x-ocaml",
   "file_extension": ".ml",
   "mimetype": "text/x-ocaml",
   "name": "OCaml",
   "nbconverter_exporter": null,
   "pygments_lexer": "OCaml",
   "version": "4.11.1"
  }
 },
 "nbformat": 4,
 "nbformat_minor": 5
}
