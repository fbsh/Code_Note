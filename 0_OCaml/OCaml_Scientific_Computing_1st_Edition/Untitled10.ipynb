{
 "cells": [
  {
   "cell_type": "code",
   "execution_count": 3,
   "metadata": {},
   "outputs": [
    {
     "name": "stdout",
     "output_type": "stream",
     "text": [
      "Raised at Stdlib.invalid_arg in file \"stdlib.ml\", line 30, characters 20-45\n",
      "Called from Toploop in file \"toplevel/toploop.ml\", line 516, characters 2-159\n",
      "Called from Topdirs.load_compunit in file \"toplevel/topdirs.ml\", line 153, characters 11-23\n",
      "\n",
      "- : unit = ()\n",
      "Findlib has been successfully loaded. Additional directives:\n",
      "  #require \"package\";;      to load a package\n",
      "  #list;;                   to list the available packages\n",
      "  #camlp4o;;                to load camlp4 (standard syntax)\n",
      "  #camlp4r;;                to load camlp4 (revised syntax)\n",
      "  #predicates \"p,q,...\";;   to set these predicates\n",
      "  Topfind.reset();;         to force that packages will be reloaded\n",
      "  #thread;;                 to enable threads\n",
      "\n",
      "- : unit = ()\n"
     ]
    }
   ],
   "source": [
    "#use \"topfind\"\n",
    "#require \"owl-jupyter\"\n",
    "open Owl_jupyter\n",
    "open Owl"
   ]
  },
  {
   "cell_type": "code",
   "execution_count": 18,
   "metadata": {},
   "outputs": [
    {
     "data": {
      "text/plain": "val d : float = -0.867061844425624506\n"
     },
     "execution_count": 18,
     "metadata": {},
     "output_type": "execute_result"
    }
   ],
   "source": [
    "let d =\n",
    "  let _eps = 0.1 in\n",
    "  let diff f x = (f (x +. _eps) -. f x) /. _eps in\n",
    "  diff Maths.cos 1.\n",
    ";;"
   ]
  },
  {
   "cell_type": "code",
   "execution_count": 19,
   "metadata": {},
   "outputs": [
    {
     "data": {
      "text/plain": "val d : float = -0.666133814775093924\n"
     },
     "execution_count": 19,
     "metadata": {},
     "output_type": "execute_result"
    }
   ],
   "source": [
    "let d =\n",
    "  let _eps = 5E-16 in\n",
    "  let diff f x = (f (x +. _eps) -. f x) /. _eps in\n",
    "  diff Maths.cos 1.\n",
    ";;"
   ]
  },
  {
   "cell_type": "code",
   "execution_count": 22,
   "metadata": {},
   "outputs": [
    {
     "data": {
      "text/plain": "val f : Owl_algodiff.D.t -> Owl_algodiff.D.t = <fun>\n"
     },
     "execution_count": 22,
     "metadata": {},
     "output_type": "execute_result"
    },
    {
     "data": {
      "text/plain": "val x : Owl_algodiff.D.t = [Arr(1,2)]\n"
     },
     "execution_count": 22,
     "metadata": {},
     "output_type": "execute_result"
    },
    {
     "data": {
      "text/plain": "- : Owl.Algodiff.D.A.arr = \n          C0        C1 \nR0 -0.181974 -0.118142 \n\n"
     },
     "execution_count": 22,
     "metadata": {},
     "output_type": "execute_result"
    }
   ],
   "source": [
    "open Algodiff.D;;\n",
    "let f x =\n",
    "  let x1 = Mat.get x 0 0 in\n",
    "  let x2 = Mat.get x 0 1 in\n",
    "  Maths.(div (F 1.) (F 1. + exp (x1 * x2 + (sin x1))))\n",
    ";;\n",
    "let x = Mat.ones 1 2;;\n",
    "let _ = grad f x |> unpack_arr;;"
   ]
  },
  {
   "cell_type": "code",
   "execution_count": 23,
   "metadata": {},
   "outputs": [
    {
     "data": {
      "text/plain": "module D :\n  sig\n    type arr = Owl.Dense.Ndarray.D.arr\n    type elt = Owl.Dense.Ndarray.D.elt\n    val _eps : float\n    val _ep1 : float\n    val _ep2 : float\n    val diff : (float -> float) -> float -> float\n    val diff' : (float -> float) -> float -> float * float\n    val diff2 : (float -> float) -> float -> float\n    val diff2' : (float -> float) -> float -> float * float\n    val grad' :\n      (Owl.Dense.Ndarray.D.arr -> Owl.Dense.Ndarray.D.elt) ->\n      Owl.Dense.Ndarray.D.arr ->\n      Owl.Dense.Ndarray.D.arr * Owl.Dense.Ndarray.D.arr\n    val grad :\n      (Owl.Dense.Ndarray.D.arr -> Owl.Dense.Ndarray.D.elt) ->\n      Owl.Dense.Ndarray.D.arr -> Owl.Dense.Ndarray.D.arr\n    val jacobianT' :\n      (Owl.Dense.Ndarray.D.arr -> Owl.Dense.Ndarray.D.arr) ->\n      Owl.Dense.Ndarray.D.arr ->\n      Owl.Dense.Ndarray.D.arr * Owl.Dense.Ndarray.D.arr\n    val jacobianT :\n      (Owl.Dense.Ndarray.D.arr -> Owl.Dense.Ndarray.D.arr) ->\n      Owl.Dense.Ndarray.D.arr -> Owl.Dense.Ndarray.D.arr\n    val jacobian' :\n      (Owl.Dense.Ndarray.D.arr -> Owl.Dense.Ndarray.D.arr) ->\n      Owl.Dense.Ndarray.D.arr ->\n      Owl.Dense.Ndarray.D.arr * Owl.Dense.Ndarray.D.arr\n    val jacobian :\n      (Owl.Dense.Ndarray.D.arr -> Owl.Dense.Ndarray.D.arr) ->\n      Owl.Dense.Ndarray.D.arr -> Owl.Dense.Ndarray.D.arr\n  end\n"
     },
     "execution_count": 23,
     "metadata": {},
     "output_type": "execute_result"
    }
   ],
   "source": [
    "module D = Owl_numdiff_generic.Make (Dense.Ndarray.D);;"
   ]
  },
  {
   "cell_type": "code",
   "execution_count": 30,
   "metadata": {},
   "outputs": [
    {
     "data": {
      "text/plain": "val x : Owl.Arr.arr = \n  C0 C1 \nR  1  1 \n\n"
     },
     "execution_count": 30,
     "metadata": {},
     "output_type": "execute_result"
    }
   ],
   "source": [
    "let x = Arr.ones [|2|]"
   ]
  },
  {
   "cell_type": "code",
   "execution_count": 33,
   "metadata": {},
   "outputs": [
    {
     "data": {
      "text/plain": "val f : Owl.Arr.arr -> float = <fun>\n"
     },
     "execution_count": 33,
     "metadata": {},
     "output_type": "execute_result"
    }
   ],
   "source": [
    "let f x =\n",
    "    let x1 = Arr.get x [|0|] in\n",
    "    let x2 = Arr.get x [|1|] in\n",
    "    Maths.(div 1. (1. +. exp (x1 *. x2 +. (sin x1))))"
   ]
  },
  {
   "cell_type": "code",
   "execution_count": 34,
   "metadata": {},
   "outputs": [
    {
     "data": {
      "text/plain": "- : Owl.Dense.Ndarray.D.arr = \n         C0        C1 \nR -0.181973 -0.118142 \n\n"
     },
     "execution_count": 34,
     "metadata": {},
     "output_type": "execute_result"
    }
   ],
   "source": [
    "D.grad f x;;"
   ]
  },
  {
   "cell_type": "code",
   "execution_count": 35,
   "metadata": {},
   "outputs": [
    {
     "data": {
      "text/plain": "type df = { mutable p : float; mutable t : float; }\n"
     },
     "execution_count": 35,
     "metadata": {},
     "output_type": "execute_result"
    },
    {
     "data": {
      "text/plain": "val primal : df -> float = <fun>\n"
     },
     "execution_count": 35,
     "metadata": {},
     "output_type": "execute_result"
    },
    {
     "data": {
      "text/plain": "val tangent : df -> float = <fun>\n"
     },
     "execution_count": 35,
     "metadata": {},
     "output_type": "execute_result"
    }
   ],
   "source": [
    "type df = {\n",
    "    mutable p: float;\n",
    "    mutable t: float\n",
    "}\n",
    "\n",
    "let primal df = df.p\n",
    "let tangent df = df.t"
   ]
  },
  {
   "cell_type": "code",
   "execution_count": 36,
   "metadata": {},
   "outputs": [
    {
     "data": {
      "text/plain": "val sin_ad : df -> df = <fun>\n"
     },
     "execution_count": 36,
     "metadata": {},
     "output_type": "execute_result"
    }
   ],
   "source": [
    "let sin_ad x =\n",
    "    let p = primal x in\n",
    "    let t = tangent x in\n",
    "    let p' = Owl_maths.sin p in\n",
    "    let t' = (Owl_maths.cos p) *. t in\n",
    "    {p=p'; t=t'}"
   ]
  },
  {
   "cell_type": "code",
   "execution_count": 37,
   "metadata": {},
   "outputs": [
    {
     "data": {
      "text/plain": "val exp_ad : df -> df = <fun>\n"
     },
     "execution_count": 37,
     "metadata": {},
     "output_type": "execute_result"
    }
   ],
   "source": [
    "let exp_ad x =\n",
    "    let p = primal x in\n",
    "    let t = tangent x in\n",
    "    let p' = Owl_maths.exp p in\n",
    "    let t' = p' *. t in\n",
    "    {p=p'; t=t'}"
   ]
  },
  {
   "cell_type": "code",
   "execution_count": 38,
   "metadata": {},
   "outputs": [
    {
     "data": {
      "text/plain": "val mul_ad : df -> df -> df = <fun>\n"
     },
     "execution_count": 38,
     "metadata": {},
     "output_type": "execute_result"
    }
   ],
   "source": [
    "let mul_ad a b =\n",
    "    let pa = primal a in\n",
    "    let ta = tangent a in\n",
    "    let pb = primal b in\n",
    "    let tb = tangent b in\n",
    "    let p' = pa *. pb in\n",
    "    let t' = pa *. tb +. ta *. pb in\n",
    "    {p=p'; t=t'}"
   ]
  },
  {
   "cell_type": "code",
   "execution_count": 39,
   "metadata": {},
   "outputs": [
    {
     "data": {
      "text/plain": "val add_ad : df -> df -> df = <fun>\n"
     },
     "execution_count": 39,
     "metadata": {},
     "output_type": "execute_result"
    },
    {
     "data": {
      "text/plain": "val div_ad : df -> df -> df = <fun>\n"
     },
     "execution_count": 39,
     "metadata": {},
     "output_type": "execute_result"
    }
   ],
   "source": [
    "let add_ad a b =\n",
    "    let pa = primal a in\n",
    "    let ta = tangent a in\n",
    "    let pb = primal b in\n",
    "    let tb = tangent b in\n",
    "    let p' = pa +. pb in\n",
    "    let t' = ta +. tb in\n",
    "    {p=p'; t=t'}\n",
    "\n",
    "let div_ad a b =\n",
    "    let pa = primal a in\n",
    "    let ta = tangent a in\n",
    "    let pb = primal b in\n",
    "    let tb = tangent b in\n",
    "    let p' = pa /. pb in\n",
    "    let t' = (ta *. pb -. tb *. pa) /. (pb *. pb) in\n",
    "    {p=p'; t=t'}"
   ]
  },
  {
   "cell_type": "code",
   "execution_count": 40,
   "metadata": {},
   "outputs": [
    {
     "data": {
      "text/plain": "val diff : ('a -> 'b -> df) -> 'a -> 'b -> float * float = <fun>\n"
     },
     "execution_count": 40,
     "metadata": {},
     "output_type": "execute_result"
    }
   ],
   "source": [
    "let diff f =\n",
    "  let f' x y =\n",
    "    let r = f x y in\n",
    "    primal r, tangent r\n",
    "  in\n",
    "  f'"
   ]
  },
  {
   "cell_type": "code",
   "execution_count": 41,
   "metadata": {},
   "outputs": [
    {
     "data": {
      "text/plain": "val x0 : df = {p = 1.; t = 1.}\n"
     },
     "execution_count": 41,
     "metadata": {},
     "output_type": "execute_result"
    },
    {
     "data": {
      "text/plain": "val x1 : df = {p = 1.; t = 0.}\n"
     },
     "execution_count": 41,
     "metadata": {},
     "output_type": "execute_result"
    }
   ],
   "source": [
    "let x0 = {p=1.; t=1.}\n",
    "let x1 = {p=1.; t=0.}"
   ]
  },
  {
   "cell_type": "code",
   "execution_count": 42,
   "metadata": {},
   "outputs": [
    {
     "data": {
      "text/plain": "val f : df -> df -> df = <fun>\n"
     },
     "execution_count": 42,
     "metadata": {},
     "output_type": "execute_result"
    }
   ],
   "source": [
    "let f x0 x1 =\n",
    "  let v2 = sin_ad x0 in\n",
    "  let v3 = mul_ad x0 x1 in\n",
    "  let v4 = add_ad v2 v3 in\n",
    "  let v5 = {p=1.; t=0.} in\n",
    "  let v6 = exp_ad v4 in\n",
    "  let v7 = {p=1.; t=0.} in\n",
    "  let v8 = add_ad v5 v6 in\n",
    "  let v9 = div_ad v7 v8 in\n",
    "  v9\n",
    ";;"
   ]
  },
  {
   "cell_type": "code",
   "execution_count": 43,
   "metadata": {},
   "outputs": [
    {
     "data": {
      "text/plain": "val pri : float = 0.13687741466075895\nval tan : float = -0.181974376561731321\n"
     },
     "execution_count": 43,
     "metadata": {},
     "output_type": "execute_result"
    }
   ],
   "source": [
    "let pri, tan = diff f x0 x1;;"
   ]
  },
  {
   "cell_type": "code",
   "execution_count": 44,
   "metadata": {},
   "outputs": [
    {
     "data": {
      "text/plain": "type dr = {\n  mutable p : float;\n  mutable a : float ref;\n  mutable adj_fun : float ref -> (float * dr) list -> (float * dr) list;\n}\n"
     },
     "execution_count": 44,
     "metadata": {},
     "output_type": "execute_result"
    },
    {
     "data": {
      "text/plain": "val primal : dr -> float = <fun>\n"
     },
     "execution_count": 44,
     "metadata": {},
     "output_type": "execute_result"
    },
    {
     "data": {
      "text/plain": "val adjoint : dr -> float ref = <fun>\n"
     },
     "execution_count": 44,
     "metadata": {},
     "output_type": "execute_result"
    },
    {
     "data": {
      "text/plain": "val adj_fun : dr -> float ref -> (float * dr) list -> (float * dr) list =\n  <fun>\n"
     },
     "execution_count": 44,
     "metadata": {},
     "output_type": "execute_result"
    }
   ],
   "source": [
    "type dr = {\n",
    "    mutable p: float;\n",
    "    mutable a: float ref;\n",
    "  mutable adj_fun : float ref -> (float * dr) list -> (float * dr) list\n",
    "}\n",
    "\n",
    "let primal dr = dr.p\n",
    "let adjoint dr = dr.a\n",
    "let adj_fun dr = dr.adj_fun"
   ]
  },
  {
   "cell_type": "code",
   "execution_count": 45,
   "metadata": {},
   "outputs": [
    {
     "data": {
      "text/plain": "val sin_ad : dr -> dr = <fun>\n"
     },
     "execution_count": 45,
     "metadata": {},
     "output_type": "execute_result"
    }
   ],
   "source": [
    "let sin_ad dr =\n",
    "    let p = primal dr in\n",
    "    let p' = Owl_maths.sin p in\n",
    "    let adjfun' ca t =\n",
    "        let r = !ca *. (Owl_maths.cos p) in\n",
    "        (r, dr) :: t\n",
    "    in\n",
    "    {p=p'; a=ref 0.; adj_fun=adjfun'}"
   ]
  },
  {
   "cell_type": "code",
   "execution_count": 46,
   "metadata": {},
   "outputs": [
    {
     "data": {
      "text/plain": "val mul_ad : dr -> dr -> dr = <fun>\n"
     },
     "execution_count": 46,
     "metadata": {},
     "output_type": "execute_result"
    }
   ],
   "source": [
    "let mul_ad dr1 dr2 =\n",
    "    let p1 = primal dr1 in\n",
    "    let p2 = primal dr2 in\n",
    "\n",
    "    let p' = Owl_maths.mul p1 p2 in\n",
    "    let adjfun' ca t =\n",
    "        let r1 = !ca *. p2 in\n",
    "        let r2 = !ca *. p1 in\n",
    "        (r1, dr1) :: (r2, dr2) :: t\n",
    "    in\n",
    "    {p = p'; a = ref 0.; adj_fun = adjfun'}"
   ]
  },
  {
   "cell_type": "code",
   "execution_count": 47,
   "metadata": {},
   "outputs": [
    {
     "data": {
      "text/plain": "val make_reverse : float -> dr = <fun>\n"
     },
     "execution_count": 47,
     "metadata": {},
     "output_type": "execute_result"
    }
   ],
   "source": [
    "let make_reverse v =\n",
    "    let a = ref 0. in\n",
    "    let adj_fun _a t = t in\n",
    "    {p=v; a; adj_fun}"
   ]
  },
  {
   "cell_type": "code",
   "execution_count": 49,
   "metadata": {},
   "outputs": [
    {
     "data": {
      "text/plain": "val x : dr = {p = 1.; a = {contents = 0.}; adj_fun = <fun>}\n"
     },
     "execution_count": 49,
     "metadata": {},
     "output_type": "execute_result"
    }
   ],
   "source": [
    "let x = make_reverse 1.;;"
   ]
  },
  {
   "cell_type": "code",
   "execution_count": 50,
   "metadata": {},
   "outputs": [
    {
     "data": {
      "text/plain": "val y : dr = {p = 2.; a = {contents = 0.}; adj_fun = <fun>}\n"
     },
     "execution_count": 50,
     "metadata": {},
     "output_type": "execute_result"
    }
   ],
   "source": [
    "let y = make_reverse 2.;;"
   ]
  },
  {
   "cell_type": "code",
   "execution_count": 51,
   "metadata": {},
   "outputs": [
    {
     "data": {
      "text/plain": "val v : dr = {p = 1.68294196961579301; a = {contents = 0.}; adj_fun = <fun>}\n"
     },
     "execution_count": 51,
     "metadata": {},
     "output_type": "execute_result"
    }
   ],
   "source": [
    "let v = mul_ad (sin_ad x) y;;"
   ]
  },
  {
   "cell_type": "code",
   "execution_count": 52,
   "metadata": {},
   "outputs": [
    {
     "data": {
      "text/plain": "val reverse_push : (float * dr) list -> unit = <fun>\n"
     },
     "execution_count": 52,
     "metadata": {},
     "output_type": "execute_result"
    }
   ],
   "source": [
    "let rec reverse_push xs =\n",
    "    match xs with\n",
    "    | [] -> ()\n",
    "    | (v, dr) :: t ->\n",
    "        let aa = adjoint dr in\n",
    "        let adjfun = adj_fun dr in\n",
    "        aa := !aa +. v;\n",
    "        let stack = adjfun aa t in\n",
    "        reverse_push stack"
   ]
  },
  {
   "cell_type": "code",
   "execution_count": 53,
   "metadata": {},
   "outputs": [
    {
     "data": {
      "text/plain": "val exp_ad : dr -> dr = <fun>\n"
     },
     "execution_count": 53,
     "metadata": {},
     "output_type": "execute_result"
    },
    {
     "data": {
      "text/plain": "val add_ad : dr -> dr -> dr = <fun>\n"
     },
     "execution_count": 53,
     "metadata": {},
     "output_type": "execute_result"
    },
    {
     "data": {
      "text/plain": "val div_ad : dr -> dr -> dr = <fun>\n"
     },
     "execution_count": 53,
     "metadata": {},
     "output_type": "execute_result"
    }
   ],
   "source": [
    "let exp_ad dr =\n",
    "    let p = primal dr in\n",
    "    let p' = Owl_maths.exp p in\n",
    "    let adjfun' ca t =\n",
    "        let r = !ca *. (Owl_maths.exp p) in\n",
    "        (r, dr) :: t\n",
    "    in\n",
    "    {p=p'; a=ref 0.; adj_fun=adjfun'}\n",
    "\n",
    "\n",
    "let add_ad dr1 dr2 =\n",
    "    let p1 = primal dr1 in\n",
    "    let p2 = primal dr2 in\n",
    "    let p' = Owl_maths.add p1 p2 in\n",
    "    let adjfun' ca t =\n",
    "        let r1 = !ca in\n",
    "        let r2 = !ca in\n",
    "        (r1, dr1) :: (r2, dr2) :: t\n",
    "    in\n",
    "    {p = p'; a = ref 0.; adj_fun = adjfun'}\n",
    "\n",
    "\n",
    "let div_ad dr1 dr2 =\n",
    "    let p1 = primal dr1 in\n",
    "    let p2 = primal dr2 in\n",
    "\n",
    "    let p' = Owl_maths.div p1 p2 in\n",
    "    let adjfun' ca t =\n",
    "        let r1 = !ca /. p2 in\n",
    "        let r2 = !ca *. (-.p1) /. (p2 *. p2) in\n",
    "        (r1, dr1) :: (r2, dr2) :: t\n",
    "    in\n",
    "    {p = p'; a = ref 0.; adj_fun = adjfun'}"
   ]
  },
  {
   "cell_type": "code",
   "execution_count": 54,
   "metadata": {},
   "outputs": [
    {
     "data": {
      "text/plain": "val diff : (dr * dr -> dr) -> dr * dr -> float * float * float * float =\n  <fun>\n"
     },
     "execution_count": 54,
     "metadata": {},
     "output_type": "execute_result"
    }
   ],
   "source": [
    "let diff f =\n",
    "  let f' x =\n",
    "    (* forward pass *)\n",
    "    let r = f x in\n",
    "    (* backward pass *)\n",
    "    reverse_push [(1., r)];\n",
    "    (* get result values *)\n",
    "    let x0, x1 = x in\n",
    "    primal x0, !(adjoint x0), primal x1, !(adjoint x1)\n",
    "  in\n",
    "  f'"
   ]
  },
  {
   "cell_type": "code",
   "execution_count": 55,
   "metadata": {},
   "outputs": [
    {
     "data": {
      "text/plain": "val x1 : dr = {p = 1.; a = {contents = 0.}; adj_fun = <fun>}\n"
     },
     "execution_count": 55,
     "metadata": {},
     "output_type": "execute_result"
    }
   ],
   "source": [
    "let x1 = make_reverse 1.;;"
   ]
  },
  {
   "cell_type": "code",
   "execution_count": 56,
   "metadata": {},
   "outputs": [
    {
     "data": {
      "text/plain": "val x0 : dr = {p = 1.; a = {contents = 0.}; adj_fun = <fun>}\n"
     },
     "execution_count": 56,
     "metadata": {},
     "output_type": "execute_result"
    }
   ],
   "source": [
    "let x0 = make_reverse 1.;;"
   ]
  },
  {
   "cell_type": "code",
   "execution_count": 57,
   "metadata": {},
   "outputs": [
    {
     "data": {
      "text/plain": "val f : dr * dr -> dr = <fun>\n"
     },
     "execution_count": 57,
     "metadata": {},
     "output_type": "execute_result"
    }
   ],
   "source": [
    "let f x =\n",
    "  let x0, x1 = x in\n",
    "  let v2 = sin_ad x0 in\n",
    "  let v3 = mul_ad x0 x1 in\n",
    "  let v4 = add_ad v2 v3 in\n",
    "  let v5 = make_reverse 1. in\n",
    "  let v6 = exp_ad v4 in\n",
    "  let v7 = make_reverse 1. in\n",
    "  let v8 = add_ad v5 v6 in\n",
    "  let v9 = div_ad v7 v8 in\n",
    "  v9\n",
    ";;\n"
   ]
  },
  {
   "cell_type": "code",
   "execution_count": 58,
   "metadata": {},
   "outputs": [
    {
     "data": {
      "text/plain": "val pri_x0 : float = 1.\nval adj_x0 : float = -0.181974376561731321\nval pri_x1 : float = 1.\nval adj_x1 : float = -0.118141988016545588\n"
     },
     "execution_count": 58,
     "metadata": {},
     "output_type": "execute_result"
    }
   ],
   "source": [
    "let pri_x0, adj_x0, pri_x1, adj_x1 = diff f (x0, x1);;"
   ]
  },
  {
   "cell_type": "code",
   "execution_count": 59,
   "metadata": {},
   "outputs": [
    {
     "data": {
      "text/plain": "val f0 : Owl_algodiff.D.t -> Owl_algodiff.D.t = <fun>\n"
     },
     "execution_count": 59,
     "metadata": {},
     "output_type": "execute_result"
    },
    {
     "data": {
      "text/plain": "val d : Owl.Algodiff.D.t = [F(0.990066)]\n"
     },
     "execution_count": 59,
     "metadata": {},
     "output_type": "execute_result"
    }
   ],
   "source": [
    "open Algodiff.D\n",
    "\n",
    "let f0 x = Maths.(tanh x)\n",
    "let d = diff f0 (F 0.1)"
   ]
  },
  {
   "cell_type": "code",
   "execution_count": 60,
   "metadata": {},
   "outputs": [
    {
     "data": {
      "text/plain": "val f0 : Owl_algodiff.D.t -> Owl_algodiff.D.t = <fun>\n"
     },
     "execution_count": 60,
     "metadata": {},
     "output_type": "execute_result"
    },
    {
     "data": {
      "text/plain": "val f1 : Owl.Algodiff.D.t -> Owl.Algodiff.D.t = <fun>\n"
     },
     "execution_count": 60,
     "metadata": {},
     "output_type": "execute_result"
    },
    {
     "data": {
      "text/plain": "val f2 : Owl.Algodiff.D.t -> Owl.Algodiff.D.t = <fun>\n"
     },
     "execution_count": 60,
     "metadata": {},
     "output_type": "execute_result"
    },
    {
     "data": {
      "text/plain": "val f3 : Owl.Algodiff.D.t -> Owl.Algodiff.D.t = <fun>\n"
     },
     "execution_count": 60,
     "metadata": {},
     "output_type": "execute_result"
    },
    {
     "data": {
      "text/plain": "val f4 : Owl.Algodiff.D.t -> Owl.Algodiff.D.t = <fun>\n"
     },
     "execution_count": 60,
     "metadata": {},
     "output_type": "execute_result"
    }
   ],
   "source": [
    "let f0 x = Maths.(tanh x);;\n",
    "let f1 = diff f0;;\n",
    "let f2 = diff f1;;\n",
    "let f3 = diff f2;;\n",
    "let f4 = diff f3;;"
   ]
  },
  {
   "cell_type": "code",
   "execution_count": 61,
   "metadata": {},
   "outputs": [
    {
     "data": {
      "text/plain": "val map :\n  (Owl.Algodiff.D.t -> Owl.Algodiff.D.t) -> Owl.Mat.mat -> Owl.Mat.mat =\n  <fun>\n"
     },
     "execution_count": 61,
     "metadata": {},
     "output_type": "execute_result"
    },
    {
     "data": {
      "text/plain": "val x : Owl.Mat.mat =\n  \n   C0      C1      C2      C3      C4       C195   C196   C197   C198 C199 \nR0 -4 -3.9598 -3.9196 -3.8794 -3.8392 ... 3.8392 3.8794 3.9196 3.9598    4 \n\n"
     },
     "execution_count": 61,
     "metadata": {},
     "output_type": "execute_result"
    },
    {
     "data": {
      "text/plain": "val y0 : Owl.Mat.mat =\n  \n          C0        C1        C2        C3        C4         C195     C196     C197     C198     C199 \nR0 -0.999329 -0.999273 -0.999212 -0.999146 -0.999075 ... 0.999075 0.999146 0.999212 0.999273 0.999329 \n\n"
     },
     "execution_count": 61,
     "metadata": {},
     "output_type": "execute_result"
    },
    {
     "data": {
      "text/plain": "val y1 : Owl.Mat.mat =\n  \n           C0         C1        C2         C3         C4           C195       C196      C197       C198       C199 \nR0 0.00134095 0.00145314 0.0015747 0.00170643 0.00184916 ... 0.00184916 0.00170643 0.0015747 0.00145314 0.00134095 \n\n"
     },
     "execution_count": 61,
     "metadata": {},
     "output_type": "execute_result"
    },
    {
     "data": {
      "text/plain": "val y2 : Owl.Mat.mat =\n  \n          C0         C1         C2         C3        C4           C195        C196        C197        C198       C199 \nR0 0.0026801 0.00290416 0.00314692 0.00340994 0.0036949 ... -0.0036949 -0.00340994 -0.00314692 -0.00290416 -0.0026801 \n\n"
     },
     "execution_count": 61,
     "metadata": {},
     "output_type": "execute_result"
    },
    {
     "data": {
      "text/plain": "val y3 : Owl.Mat.mat =\n  \n           C0         C1         C2         C3         C4           C195       C196       C197       C198       C199 \nR0 0.00535301 0.00579988 0.00628393 0.00680824 0.00737613 ... 0.00737613 0.00680824 0.00628393 0.00579988 0.00535301 \n\n"
     },
     "execution_count": 61,
     "metadata": {},
     "output_type": "execute_result"
    },
    {
     "data": {
      "text/plain": "val y4 : Owl.Mat.mat =\n  \n          C0       C1        C2        C3        C4           C195       C196       C197      C198       C199 \nR0 0.0106773 0.011566 0.0125282 0.0135699 0.0146976 ... -0.0146976 -0.0135699 -0.0125282 -0.011566 -0.0106773 \n\n"
     },
     "execution_count": 61,
     "metadata": {},
     "output_type": "execute_result"
    },
    {
     "data": {
      "image/png": "[encoded data removed]"
     },
     "metadata": {},
     "output_type": "display_data"
    },
    {
     "data": {
      "text/plain": "- : unit = ()\n"
     },
     "execution_count": 61,
     "metadata": {},
     "output_type": "execute_result"
    }
   ],
   "source": [
    "let map f x = Owl.Mat.map (fun a -> a |> pack_flt |> f |> unpack_flt) x;;\n",
    "\n",
    "let x = Owl.Mat.linspace (-4.) 4. 200;;\n",
    "let y0 = map f0 x;;\n",
    "let y1 = map f1 x;;\n",
    "let y2 = map f2 x;;\n",
    "let y3 = map f3 x;;\n",
    "let y4 = map f4 x;;\n",
    "\n",
    "let h = Plot.create \"plot_00.png\" in\n",
    "Plot.plot ~h x y0;\n",
    "Plot.plot ~h x y1;\n",
    "Plot.plot ~h x y2;\n",
    "Plot.plot ~h x y3;\n",
    "Plot.plot ~h x y4;\n",
    "Plot.output h;;"
   ]
  },
  {
   "cell_type": "code",
   "execution_count": 69,
   "metadata": {},
   "outputs": [],
   "source": [
    "#require \"owl-plplot\""
   ]
  },
  {
   "cell_type": "code",
   "execution_count": 70,
   "metadata": {},
   "outputs": [
    {
     "data": {
      "text/plain": "val generate_data :\n  unit ->\n  Owl.Mat.mat * Owl.Mat.mat *\n  (float, Bigarray.float64_elt) Owl_dense_matrix_generic.t = <fun>\n"
     },
     "execution_count": 70,
     "metadata": {},
     "output_type": "execute_result"
    }
   ],
   "source": [
    "let generate_data () =\n",
    "  let x = Mat.uniform 1000 3 in\n",
    "  let p = Mat.uniform 3 2 in\n",
    "  let y = Mat.(x *@ p) in\n",
    "  x, p, y"
   ]
  },
  {
   "cell_type": "code",
   "execution_count": 73,
   "metadata": {},
   "outputs": [
    {
     "data": {
      "text/plain": "val test_ols : unit -> unit = <fun>\n"
     },
     "execution_count": 73,
     "metadata": {},
     "output_type": "execute_result"
    },
    {
     "data": {
      "text/plain": "val test_lasso : unit -> unit = <fun>\n"
     },
     "execution_count": 73,
     "metadata": {},
     "output_type": "execute_result"
    },
    {
     "data": {
      "text/plain": "val test_ridge : unit -> unit = <fun>\n"
     },
     "execution_count": 73,
     "metadata": {},
     "output_type": "execute_result"
    },
    {
     "data": {
      "text/plain": "val test_elastic : unit -> unit = <fun>\n"
     },
     "execution_count": 73,
     "metadata": {},
     "output_type": "execute_result"
    },
    {
     "data": {
      "text/plain": "val test_exp : unit -> unit = <fun>\n"
     },
     "execution_count": 73,
     "metadata": {},
     "output_type": "execute_result"
    }
   ],
   "source": [
    "let test_ols () =\n",
    "  let x, p, y = generate_data () in\n",
    "  let r = Regression.D.ols ~i:false x y in\n",
    "  Mat.(p - r.(0) |> print)\n",
    "\n",
    "\n",
    "let test_lasso () =\n",
    "  let x, p, y = generate_data () in\n",
    "  let r = Regression.D.lasso ~i:false x y in\n",
    "  Mat.(p - r.(0) |> print)\n",
    "\n",
    "\n",
    "let test_ridge () =\n",
    "  let x, p, y = generate_data () in\n",
    "  let r = Regression.D.ridge ~i:true x y in\n",
    "  Mat.(p - r.(0) |> print)\n",
    "\n",
    "\n",
    "let test_elastic () =\n",
    "  let x, p, y = generate_data () in\n",
    "  let r = Regression.D.elastic_net ~i:true x y in\n",
    "  Mat.(p - r.(0) |> print)\n",
    "\n",
    "\n",
    "let test_exp () =\n",
    "  let x = Mat.uniform 50 1 in\n",
    "  let a = 0.25 in\n",
    "  let l = 0.55 in\n",
    "  let b = 0.79 in\n",
    "  let y = Mat.((a $* exp (-.l $* x)) +$ b) in\n",
    "  let a', l', b' = Regression.D.exponential x y in\n",
    "  Printf.printf \"(%g, %g, %g) (%g, %g, %g)\\n\" a l b a' l' b'"
   ]
  },
  {
   "cell_type": "code",
   "execution_count": 77,
   "metadata": {},
   "outputs": [
    {
     "name": "stdout",
     "output_type": "stream",
     "text": [
      "2021-04-10 07:09:17.571 \u001b[32mINFO\u001b[0m : test exp\n",
      "(0.25, 0.55, 0.79) (-1.25628e-31, 5.38026e-17, 0.978916)\n",
      "2021-04-10 07:09:18.551 \u001b[32mINFO\u001b[0m : test ols\n",
      "\n",
      "\n",
      "             C0           C1 \n",
      "R0 -2.22045E-16 -2.77556E-16 \n",
      "R1  4.44089E-16  1.11022E-16 \n",
      "R2 -2.22045E-16  2.22045E-16 \n",
      "2021-04-10 07:09:19.040 \u001b[32mINFO\u001b[0m : test lasso\n",
      "\n",
      "\n",
      "            C0          C1 \n",
      "R0 5.78241E-07 5.78241E-07 \n",
      "R1 5.39485E-07 5.39485E-07 \n",
      "R2 7.07657E-07 7.07657E-07 \n",
      "2021-04-10 07:09:19.458 \u001b[32mINFO\u001b[0m : test ridge\n",
      "\n",
      "\n",
      "            C0          C1 \n",
      "R0 1.93851E-06 1.60414E-06 \n",
      "R1 2.57923E-07 4.07721E-06 \n",
      "R2 1.04331E-06 3.47282E-06 \n",
      "2021-04-10 07:09:19.874 \u001b[32mINFO\u001b[0m : test elastic\n",
      "\n",
      "\n",
      "           C0         C1 \n",
      "R0 0.00225723 0.00163664 \n",
      "R1 0.00205793 0.00237668 \n",
      "R2 0.00164073 0.00166343 \n"
     ]
    },
    {
     "data": {
      "text/plain": "- : unit = ()\n"
     },
     "execution_count": 77,
     "metadata": {},
     "output_type": "execute_result"
    }
   ],
   "source": [
    "let _ =\n",
    "  Owl_log.info \"test exp\"; test_exp (); flush_all ();\n",
    "  Owl_log.info \"test ols\"; test_ols (); flush_all ();\n",
    "  Owl_log.info \"test lasso\"; test_lasso (); flush_all ();\n",
    "  Owl_log.info \"test ridge\"; test_ridge (); flush_all ();\n",
    "  Owl_log.info \"test elastic\"; test_elastic (); flush_all ();\n"
   ]
  },
  {
   "cell_type": "code",
   "execution_count": 7,
   "metadata": {},
   "outputs": [
    {
     "data": {
      "text/plain": "val f : Owl_algodiff.D.t -> Owl_algodiff.D.t = <fun>\n"
     },
     "execution_count": 7,
     "metadata": {},
     "output_type": "execute_result"
    },
    {
     "data": {
      "text/plain": "- : unit = ()\n"
     },
     "execution_count": 7,
     "metadata": {},
     "output_type": "execute_result"
    }
   ],
   "source": [
    "open Algodiff.D\n",
    "let f x = Maths.(x ** (F 2.) - (F 2.))\n",
    "\n",
    "let _ =\n",
    "    let x = ref 1. in\n",
    "    for _ = 0 to 6 do\n",
    "        let g = diff f (F !x) |> unpack_elt in\n",
    "        let v = f (F !x) |> unpack_elt in\n",
    "        x := !x -. v /. g;\n",
    "        Printf.printf \"%.15f\\n\" !x;\n",
    "    done;"
   ]
  },
  {
   "cell_type": "code",
   "execution_count": 8,
   "metadata": {},
   "outputs": [
    {
     "ename": "error",
     "evalue": "compile_error",
     "output_type": "error",
     "traceback": [
      "File \"[8]\", line 2, characters 8-20:\n2 | let s = StrSet.empty in \n            ^^^^^^^^^^^^\nError: Unbound module StrSet\n"
     ]
    }
   ],
   "source": [
    "try \n",
    "let s = StrSet.empty in \n",
    "    print_string (StrSet.max_elt s) \n",
    "with Not_found -> print_endline \"\\nSet s is empty!\";;"
   ]
  },
  {
   "cell_type": "code",
   "execution_count": null,
   "metadata": {},
   "outputs": [],
   "source": []
  }
 ],
 "metadata": {
  "kernelspec": {
   "display_name": "OCaml 4.11.1",
   "language": "OCaml",
   "name": "ocaml-jupyter"
  },
  "language_info": {
   "codemirror_mode": "text/x-ocaml",
   "file_extension": ".ml",
   "mimetype": "text/x-ocaml",
   "name": "OCaml",
   "nbconverter_exporter": null,
   "pygments_lexer": "OCaml",
   "version": "4.11.1"
  },
  "orig_nbformat": 2
 },
 "nbformat": 4,
 "nbformat_minor": 2
}