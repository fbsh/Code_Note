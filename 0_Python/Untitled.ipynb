{
 "cells": [
  {
   "cell_type": "code",
   "execution_count": 2,
   "source": [
    "fuelNeeded = 42/1000\n",
    "tank1 = 36/1000\n",
    "tank2 = 6/1000\n",
    "tank1 + tank2 >= fuelNeeded"
   ],
   "outputs": [
    {
     "output_type": "execute_result",
     "data": {
      "text/plain": [
       "False"
      ]
     },
     "metadata": {},
     "execution_count": 2
    }
   ],
   "metadata": {}
  },
  {
   "cell_type": "code",
   "execution_count": 3,
   "source": [
    "from decimal import Decimal"
   ],
   "outputs": [],
   "metadata": {}
  },
  {
   "cell_type": "code",
   "execution_count": 7,
   "source": [
    "fN = Decimal(fuelNeeded)\n",
    "t1 = Decimal(tank1)\n",
    "t2 = Decimal(tank2)\n",
    "t1 + t2 >= fN"
   ],
   "outputs": [
    {
     "output_type": "execute_result",
     "data": {
      "text/plain": [
       "False"
      ]
     },
     "metadata": {},
     "execution_count": 7
    }
   ],
   "metadata": {}
  },
  {
   "cell_type": "code",
   "execution_count": 10,
   "source": [
    "class Rational(object):\n",
    "    def __init__ (self, num, denom):\n",
    "        self.numerator = num \n",
    "        self.denominator = denom\n",
    "    \n",
    "    def add(self, other):\n",
    "        newNumerator = self.numerator * other.denominator + self.denominator * other.numerator \n",
    "        newDenominator = self.denominator*other.denominator \n",
    "        return Rational(newNumerator, newDenominator)"
   ],
   "outputs": [],
   "metadata": {}
  },
  {
   "cell_type": "code",
   "execution_count": null,
   "source": [
    "r1 = Rational(36, 1000)\n",
    "r2 = Rational(6, 1000)"
   ],
   "outputs": [],
   "metadata": {}
  },
  {
   "cell_type": "code",
   "execution_count": 1,
   "source": [
    "import numpy as np\n",
    "from mayavi import mlab\n",
    "mlab.init_notebook()"
   ],
   "outputs": [
    {
     "output_type": "stream",
     "name": "stdout",
     "text": [
      "Notebook initialized with ipy backend.\n"
     ]
    }
   ],
   "metadata": {}
  },
  {
   "cell_type": "code",
   "execution_count": 3,
   "source": [
    "s = mlab.test_plot3d()\n",
    "s"
   ],
   "outputs": [
    {
     "output_type": "display_data",
     "data": {
      "application/vnd.jupyter.widget-view+json": {
       "model_id": "e3f42bece7bf42f4a6d9d63fab00284f",
       "version_major": 2,
       "version_minor": 0
      },
      "text/plain": [
       "Image(value=b'\\x89PNG\\r\\n\\x1a\\n\\x00\\x00\\x00\\rIHDR\\x00\\x00\\x01\\x90\\x00\\x00\\x01^\\x08\\x02\\x00\\x00\\x00$?\\xde_\\x00\\…"
      ]
     },
     "metadata": {}
    }
   ],
   "metadata": {}
  },
  {
   "cell_type": "code",
   "execution_count": 5,
   "source": [
    "from numpy import pi, sin, cos, mgrid"
   ],
   "outputs": [],
   "metadata": {}
  },
  {
   "cell_type": "code",
   "execution_count": 8,
   "source": [
    "dphi, dtheta = pi/250.0, pi/250.0\n",
    "[phi,theta] = mgrid[0:pi+dphi*1.5:dphi,0:2*pi+dtheta*1.5:dtheta]\n",
    "m0 = 4; m1 = 3; m2 = 2; m3 = 3; m4 = 6; m5 = 2; m6 = 6; m7 = 4;\n",
    "r = sin(m0*phi)**m1 + cos(m2*phi)**m3 + sin(m4*theta)**m5 + cos(m6*theta)**m7\n",
    "x = r*sin(phi)*cos(theta)\n",
    "y = r*cos(phi)\n",
    "z = r*sin(phi)*sin(theta)\n",
    "\n",
    "#对该数据进行三维可视化\n",
    "s = mlab.mesh(x, y, z)\n",
    "s\n",
    "mlab.savefig('example.png')\n"
   ],
   "outputs": [],
   "metadata": {}
  },
  {
   "cell_type": "code",
   "execution_count": 9,
   "source": [
    "import numpy as np\n",
    "from mayavi import mlab\n",
    "\n",
    "@mlab.animate(delay = 100)\n",
    "def updateAnimation():\n",
    "    t = 0.0\n",
    "    while True:\n",
    "        ball.mlab_source.set(x = np.cos(t), y = np.sin(t), z = 0)\n",
    "        t += 0.1\n",
    "        yield\n",
    "\n",
    "ball = mlab.points3d(np.array(1.), np.array(0.), np.array(0.))\n",
    "\n",
    "updateAnimation()\n",
    "mlab.show()"
   ],
   "outputs": [],
   "metadata": {}
  },
  {
   "cell_type": "code",
   "execution_count": 13,
   "source": [
    "import numpy\n",
    "from mayavi import mlab\n",
    "\n",
    "\n",
    "def lorenz(x, y, z, s=10., r=28., b=8. / 3.):\n",
    "    \"\"\"The Lorenz system.\"\"\"\n",
    "    u = s * (y - x)\n",
    "    v = r * x - y - x * z\n",
    "    w = x * y - b * z\n",
    "    return u, v, w\n",
    "\n",
    "# Sample the space in an interesting region.\n",
    "x, y, z = numpy.mgrid[-50:50:100j, -50:50:100j, -10:60:70j]\n",
    "u, v, w = lorenz(x, y, z)\n",
    "fig = mlab.figure(size=(400, 300), bgcolor=(0, 0, 0))\n",
    "\n",
    "# Plot the flow of trajectories with suitable parameters.\n",
    "f = mlab.flow(x, y, z, u, v, w, line_width=3, colormap='Paired')\n",
    "f.module_manager.scalar_lut_manager.reverse_lut = True\n",
    "f.stream_tracer.integration_direction = 'both'\n",
    "f.stream_tracer.maximum_propagation = 200\n",
    "# Uncomment the following line if you want to hide the seed:\n",
    "#f.seed.widget.enabled = False\n",
    "\n",
    "# Extract the z-velocity from the vectors and plot the 0 level set\n",
    "# hence producing the z-nullcline.\n",
    "src = f.mlab_source.m_data\n",
    "e = mlab.pipeline.extract_vector_components(src)\n",
    "e.component = 'z-component'\n",
    "zc = mlab.pipeline.iso_surface(e, opacity=0.5, contours=[0, ],\n",
    "            color=(0.6, 1, 0.2))\n",
    "# When using transparency, hiding 'backface' triangles often gives better\n",
    "# results\n",
    "zc.actor.property.backface_culling = True\n",
    "\n",
    "# A nice view of the plot.\n",
    "mlab.view(140, 120, 113, [0.65, 1.5, 27])\n",
    "mlab.savefig('example.png')"
   ],
   "outputs": [],
   "metadata": {}
  },
  {
   "cell_type": "code",
   "execution_count": 17,
   "source": [
    "import numpy as np\n",
    "import mayavi.mlab as mlab\n",
    "import  moviepy.editor as mpy\n"
   ],
   "outputs": [
    {
     "output_type": "error",
     "ename": "ModuleNotFoundError",
     "evalue": "No module named 'moviepy'",
     "traceback": [
      "\u001b[0;31m---------------------------------------------------------------------------\u001b[0m",
      "\u001b[0;31mModuleNotFoundError\u001b[0m                       Traceback (most recent call last)",
      "\u001b[0;32m<ipython-input-17-0cb7c4de4a09>\u001b[0m in \u001b[0;36m<module>\u001b[0;34m\u001b[0m\n\u001b[1;32m      1\u001b[0m \u001b[0;32mimport\u001b[0m \u001b[0mnumpy\u001b[0m \u001b[0;32mas\u001b[0m \u001b[0mnp\u001b[0m\u001b[0;34m\u001b[0m\u001b[0;34m\u001b[0m\u001b[0m\n\u001b[1;32m      2\u001b[0m \u001b[0;32mimport\u001b[0m \u001b[0mmayavi\u001b[0m\u001b[0;34m.\u001b[0m\u001b[0mmlab\u001b[0m \u001b[0;32mas\u001b[0m \u001b[0mmlab\u001b[0m\u001b[0;34m\u001b[0m\u001b[0;34m\u001b[0m\u001b[0m\n\u001b[0;32m----> 3\u001b[0;31m \u001b[0;32mimport\u001b[0m  \u001b[0mmoviepy\u001b[0m\u001b[0;34m.\u001b[0m\u001b[0meditor\u001b[0m \u001b[0;32mas\u001b[0m \u001b[0mmpy\u001b[0m\u001b[0;34m\u001b[0m\u001b[0;34m\u001b[0m\u001b[0m\n\u001b[0m",
      "\u001b[0;31mModuleNotFoundError\u001b[0m: No module named 'moviepy'"
     ]
    }
   ],
   "metadata": {}
  }
 ],
 "metadata": {
  "kernelspec": {
   "display_name": "Python 3",
   "language": "python",
   "name": "python3"
  }
 },
 "nbformat": 4,
 "nbformat_minor": 5
}