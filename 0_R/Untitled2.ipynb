{
 "cells": [
  {
   "cell_type": "code",
   "execution_count": 1,
   "id": "01cc5011-4552-4b8b-b061-4a6ecc6148a0",
   "metadata": {},
   "outputs": [],
   "source": [
    "from pynvml import *"
   ]
  },
  {
   "cell_type": "code",
   "execution_count": 2,
   "id": "dae7637d-937a-4008-9f2b-16f47a6b447c",
   "metadata": {},
   "outputs": [],
   "source": [
    "nvmlInit()"
   ]
  },
  {
   "cell_type": "code",
   "execution_count": 3,
   "id": "bc80fd92-0535-4c9e-8769-4ec9bf25f15a",
   "metadata": {},
   "outputs": [],
   "source": [
    "ngpus = nvmlDeviceGetCount()"
   ]
  },
  {
   "cell_type": "code",
   "execution_count": 4,
   "id": "27760ec0-0611-4a35-ad3f-05655c110834",
   "metadata": {},
   "outputs": [
    {
     "name": "stdout",
     "output_type": "stream",
     "text": [
      "GPU 0 Utilization = 0%\n"
     ]
    }
   ],
   "source": [
    "for i in range(ngpus):\n",
    "    handle = nvmlDeviceGetHandleByIndex(i)\n",
    "    gpu_util = nvmlDeviceGetUtilizationRates(handle).gpu\n",
    "    print('GPU %d Utilization = %d%%' % (i, gpu_util))"
   ]
  },
  {
   "cell_type": "code",
   "execution_count": 5,
   "id": "0f52da08-3232-4739-88c9-df4442dcdcef",
   "metadata": {},
   "outputs": [
    {
     "name": "stdout",
     "output_type": "stream",
     "text": [
      "nvcc: NVIDIA (R) Cuda compiler driver\n",
      "Copyright (c) 2005-2021 NVIDIA Corporation\n",
      "Built on Sun_Aug_15_21:14:11_PDT_2021\n",
      "Cuda compilation tools, release 11.4, V11.4.120\n",
      "Build cuda_11.4.r11.4/compiler.30300941_0\n"
     ]
    }
   ],
   "source": [
    "!nvcc --version"
   ]
  },
  {
   "cell_type": "code",
   "execution_count": 6,
   "id": "87d605c7-d22e-4ae8-8861-845fc7d803e4",
   "metadata": {},
   "outputs": [],
   "source": [
    "import numba  # We added these two lines for a 500x speedup\n",
    "\n",
    "@numba.jit    # We added these two lines for a 500x speedup\n",
    "def sum(x):\n",
    "    total = 0\n",
    "    for i in range(x.shape[0]):\n",
    "        total += x[i]\n",
    "    return total"
   ]
  },
  {
   "cell_type": "code",
   "execution_count": 7,
   "id": "561c8b5d-1d8d-4980-a799-0883bca2fa7a",
   "metadata": {},
   "outputs": [],
   "source": [
    "@numba.jit\n",
    "def _smooth(x):\n",
    "    out = np.empty_like(x)\n",
    "    for i in range(1, x.shape[0] - 1):\n",
    "        for j in range(1, x.shape[1] - 1):\n",
    "            out[i,j] = (x[i-1, j-1] + x[i-1, j+0] + x[i-1, j+1] +\n",
    "                        x[i+0, j-1] + x[i+0, j+0] + x[i+0, j+1] +\n",
    "                        x[i+1, j-1] + x[i+1, j+0] + x[i+1, j+1])//9\n",
    "    return out"
   ]
  },
  {
   "cell_type": "code",
   "execution_count": 9,
   "id": "12ec3cd1-2cac-4b16-b68b-1dd1b34c18f2",
   "metadata": {},
   "outputs": [
    {
     "name": "stdout",
     "output_type": "stream",
     "text": [
      "Elapsed (with compilation) = 0.14077186584472656\n",
      "Elapsed (after compilation) = 4.6253204345703125e-05\n"
     ]
    }
   ],
   "source": [
    "from numba import jit\n",
    "import numpy as np\n",
    "import time\n",
    "\n",
    "x = np.arange(100).reshape(10, 10)\n",
    "\n",
    "@jit(nopython=True)\n",
    "def go_fast(a): # Function is compiled and runs in machine code\n",
    "    trace = 0.0\n",
    "    for i in range(a.shape[0]):\n",
    "        trace += np.tanh(a[i, i])\n",
    "    return a + trace\n",
    "\n",
    "# DO NOT REPORT THIS... COMPILATION TIME IS INCLUDED IN THE EXECUTION TIME!\n",
    "start = time.time()\n",
    "go_fast(x)\n",
    "end = time.time()\n",
    "print(\"Elapsed (with compilation) = %s\" % (end - start))\n",
    "\n",
    "# NOW THE FUNCTION IS COMPILED, RE-TIME IT EXECUTING FROM CACHE\n",
    "start = time.time()\n",
    "go_fast(x)\n",
    "end = time.time()\n",
    "print(\"Elapsed (after compilation) = %s\" % (end - start))"
   ]
  },
  {
   "cell_type": "code",
   "execution_count": 11,
   "id": "137c0cf0-904a-4a60-bc8f-8a3ced9e7822",
   "metadata": {},
   "outputs": [
    {
     "name": "stdout",
     "output_type": "stream",
     "text": [
      "0.9999755800048137\n",
      "0.9999755800048137\n"
     ]
    },
    {
     "name": "stderr",
     "output_type": "stream",
     "text": [
      "/home/fbsh/miniconda3/lib/python3.8/site-packages/numba/cuda/cudadrv/devicearray.py:790: NumbaPerformanceWarning: Host array used in CUDA kernel will incur copy overhead to/from device.\n",
      "  warn(NumbaPerformanceWarning(msg))\n"
     ]
    }
   ],
   "source": [
    "from numba import cuda\n",
    "import numpy as np\n",
    "\n",
    "@cuda.jit\n",
    "def max_example(result, values):\n",
    "    \"\"\"Find the maximum value in values and store in result[0]\"\"\"\n",
    "    tid = cuda.threadIdx.x\n",
    "    bid = cuda.blockIdx.x\n",
    "    bdim = cuda.blockDim.x\n",
    "    i = (bid * bdim) + tid\n",
    "    cuda.atomic.max(result, 0, values[i])\n",
    "\n",
    "\n",
    "arr = np.random.rand(16384)\n",
    "result = np.zeros(1, dtype=np.float64)\n",
    "\n",
    "max_example[256,64](result, arr)\n",
    "print(result[0]) # Found using cuda.atomic.max\n",
    "print(max(arr))  # Print max(arr) for comparison (should be equal!)"
   ]
  },
  {
   "cell_type": "code",
   "execution_count": 12,
   "id": "15f67061-c706-442f-afc4-112581bdec0b",
   "metadata": {},
   "outputs": [],
   "source": [
    "from numba import jit\n",
    "import random\n",
    "\n",
    "@jit(nopython=True)\n",
    "def monte_carlo_pi(nsamples):\n",
    "    acc = 0\n",
    "    for i in range(nsamples):\n",
    "        x = random.random()\n",
    "        y = random.random()\n",
    "        if (x ** 2 + y ** 2) < 1.0:\n",
    "            acc += 1\n",
    "    return 4.0 * acc / nsamples"
   ]
  },
  {
   "cell_type": "code",
   "execution_count": 15,
   "id": "997bd24d-8c89-49d2-be04-4fe1652f2be8",
   "metadata": {},
   "outputs": [
    {
     "data": {
      "text/plain": [
       "3.141604182"
      ]
     },
     "execution_count": 15,
     "metadata": {},
     "output_type": "execute_result"
    }
   ],
   "source": [
    "monte_carlo_pi(10000000000)"
   ]
  },
  {
   "cell_type": "code",
   "execution_count": null,
   "id": "d45b59ca-8946-47f7-9e92-e0355a9b3351",
   "metadata": {},
   "outputs": [],
   "source": []
  }
 ],
 "metadata": {
  "kernelspec": {
   "display_name": "Python 3 (ipykernel)",
   "language": "python",
   "name": "python3"
  },
  "language_info": {
   "codemirror_mode": {
    "name": "ipython",
    "version": 3
   },
   "file_extension": ".py",
   "mimetype": "text/x-python",
   "name": "python",
   "nbconvert_exporter": "python",
   "pygments_lexer": "ipython3",
   "version": "3.8.11"
  }
 },
 "nbformat": 4,
 "nbformat_minor": 5
}
