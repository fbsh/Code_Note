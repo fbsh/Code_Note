{
 "cells": [
  {
   "cell_type": "code",
   "execution_count": 1,
   "id": "a14a33d4-885a-45fe-b094-4293318eaad8",
   "metadata": {},
   "outputs": [
    {
     "name": "stdout",
     "output_type": "stream",
     "text": [
      "GPU 0 Utilization = 0%\n"
     ]
    }
   ],
   "source": [
    "from pynvml import *\n",
    "nvmlInit()\n",
    "ngpus = nvmlDeviceGetCount()\n",
    "for i in range(ngpus):\n",
    "    handle = nvmlDeviceGetHandleByIndex(i)\n",
    "    gpu_util = nvmlDeviceGetUtilizationRates(handle).gpu\n",
    "    print('GPU %d Utilization = %d%%' % (i, gpu_util))"
   ]
  },
  {
   "cell_type": "code",
   "execution_count": null,
   "id": "17152e2e-4ba8-4ffc-beff-ce9ced5697c2",
   "metadata": {},
   "outputs": [],
   "source": []
  },
  {
   "cell_type": "code",
   "execution_count": null,
   "id": "cc4f487b-5cb7-43c0-b9e1-e0d7a9acbc83",
   "metadata": {},
   "outputs": [],
   "source": []
  }
 ],
 "metadata": {
  "kernelspec": {
   "display_name": "Python 3 (ipykernel)",
   "language": "python",
   "name": "python3"
  },
  "language_info": {
   "codemirror_mode": {
    "name": "ipython",
    "version": 3
   },
   "file_extension": ".py",
   "mimetype": "text/x-python",
   "name": "python",
   "nbconvert_exporter": "python",
   "pygments_lexer": "ipython3",
   "version": "3.8.11"
  }
 },
 "nbformat": 4,
 "nbformat_minor": 5
}
