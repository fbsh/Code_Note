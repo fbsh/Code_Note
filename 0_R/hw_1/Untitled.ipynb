{
 "cells": [
  {
   "cell_type": "code",
   "execution_count": 1,
   "id": "fb73a4f7-278a-40fa-9a64-8b07fc7e1efc",
   "metadata": {},
   "outputs": [
    {
     "name": "stderr",
     "output_type": "stream",
     "text": [
      "── \u001b[1mAttaching packages\u001b[22m ───────────────────────────────────────────────────────────────────────────────────────────────────────────────────── tidyverse 1.3.1 ──\n",
      "\n",
      "\u001b[32m✔\u001b[39m \u001b[34mggplot2\u001b[39m 3.3.5     \u001b[32m✔\u001b[39m \u001b[34mpurrr  \u001b[39m 0.3.4\n",
      "\u001b[32m✔\u001b[39m \u001b[34mtibble \u001b[39m 3.1.5     \u001b[32m✔\u001b[39m \u001b[34mdplyr  \u001b[39m 1.0.7\n",
      "\u001b[32m✔\u001b[39m \u001b[34mtidyr  \u001b[39m 1.1.4     \u001b[32m✔\u001b[39m \u001b[34mstringr\u001b[39m 1.4.0\n",
      "\u001b[32m✔\u001b[39m \u001b[34mreadr  \u001b[39m 2.0.2     \u001b[32m✔\u001b[39m \u001b[34mforcats\u001b[39m 0.5.1\n",
      "\n",
      "── \u001b[1mConflicts\u001b[22m ──────────────────────────────────────────────────────────────────────────────────────────────────────────────────────── tidyverse_conflicts() ──\n",
      "\u001b[31m✖\u001b[39m \u001b[34mdplyr\u001b[39m::\u001b[32mfilter()\u001b[39m masks \u001b[34mstats\u001b[39m::filter()\n",
      "\u001b[31m✖\u001b[39m \u001b[34mdplyr\u001b[39m::\u001b[32mlag()\u001b[39m    masks \u001b[34mstats\u001b[39m::lag()\n",
      "\n"
     ]
    }
   ],
   "source": [
    "library(\"tidyverse\")\n",
    "library(\"readxl\")"
   ]
  },
  {
   "cell_type": "code",
   "execution_count": 2,
   "id": "8d2af4dd-18e8-4a94-a6fb-bf94287793ab",
   "metadata": {},
   "outputs": [],
   "source": [
    "p1 <- read_excel(\"problem1-oxygenpurity.xls\")"
   ]
  },
  {
   "cell_type": "code",
   "execution_count": 3,
   "id": "34ad1996-d665-4b95-9838-3bb5eb016639",
   "metadata": {},
   "outputs": [
    {
     "data": {
      "text/html": [
       "<table class=\"dataframe\">\n",
       "<caption>A tibble: 20 × 2</caption>\n",
       "<thead>\n",
       "\t<tr><th scope=col>purity</th><th scope=col>hydro</th></tr>\n",
       "\t<tr><th scope=col>&lt;dbl&gt;</th><th scope=col>&lt;dbl&gt;</th></tr>\n",
       "</thead>\n",
       "<tbody>\n",
       "\t<tr><td>86.91</td><td>1.02</td></tr>\n",
       "\t<tr><td>89.85</td><td>1.11</td></tr>\n",
       "\t<tr><td>90.28</td><td>1.43</td></tr>\n",
       "\t<tr><td>86.34</td><td>1.11</td></tr>\n",
       "\t<tr><td>92.58</td><td>1.01</td></tr>\n",
       "\t<tr><td>87.33</td><td>0.95</td></tr>\n",
       "\t<tr><td>86.29</td><td>1.11</td></tr>\n",
       "\t<tr><td>91.86</td><td>0.87</td></tr>\n",
       "\t<tr><td>95.61</td><td>1.43</td></tr>\n",
       "\t<tr><td>89.86</td><td>1.02</td></tr>\n",
       "\t<tr><td>96.73</td><td>1.46</td></tr>\n",
       "\t<tr><td>99.42</td><td>1.55</td></tr>\n",
       "\t<tr><td>98.66</td><td>1.55</td></tr>\n",
       "\t<tr><td>96.07</td><td>1.55</td></tr>\n",
       "\t<tr><td>93.65</td><td>1.40</td></tr>\n",
       "\t<tr><td>87.31</td><td>1.15</td></tr>\n",
       "\t<tr><td>95.00</td><td>1.01</td></tr>\n",
       "\t<tr><td>96.85</td><td>0.99</td></tr>\n",
       "\t<tr><td>85.20</td><td>0.95</td></tr>\n",
       "\t<tr><td>90.56</td><td>0.98</td></tr>\n",
       "</tbody>\n",
       "</table>\n"
      ],
      "text/latex": [
       "A tibble: 20 × 2\n",
       "\\begin{tabular}{ll}\n",
       " purity & hydro\\\\\n",
       " <dbl> & <dbl>\\\\\n",
       "\\hline\n",
       "\t 86.91 & 1.02\\\\\n",
       "\t 89.85 & 1.11\\\\\n",
       "\t 90.28 & 1.43\\\\\n",
       "\t 86.34 & 1.11\\\\\n",
       "\t 92.58 & 1.01\\\\\n",
       "\t 87.33 & 0.95\\\\\n",
       "\t 86.29 & 1.11\\\\\n",
       "\t 91.86 & 0.87\\\\\n",
       "\t 95.61 & 1.43\\\\\n",
       "\t 89.86 & 1.02\\\\\n",
       "\t 96.73 & 1.46\\\\\n",
       "\t 99.42 & 1.55\\\\\n",
       "\t 98.66 & 1.55\\\\\n",
       "\t 96.07 & 1.55\\\\\n",
       "\t 93.65 & 1.40\\\\\n",
       "\t 87.31 & 1.15\\\\\n",
       "\t 95.00 & 1.01\\\\\n",
       "\t 96.85 & 0.99\\\\\n",
       "\t 85.20 & 0.95\\\\\n",
       "\t 90.56 & 0.98\\\\\n",
       "\\end{tabular}\n"
      ],
      "text/markdown": [
       "\n",
       "A tibble: 20 × 2\n",
       "\n",
       "| purity &lt;dbl&gt; | hydro &lt;dbl&gt; |\n",
       "|---|---|\n",
       "| 86.91 | 1.02 |\n",
       "| 89.85 | 1.11 |\n",
       "| 90.28 | 1.43 |\n",
       "| 86.34 | 1.11 |\n",
       "| 92.58 | 1.01 |\n",
       "| 87.33 | 0.95 |\n",
       "| 86.29 | 1.11 |\n",
       "| 91.86 | 0.87 |\n",
       "| 95.61 | 1.43 |\n",
       "| 89.86 | 1.02 |\n",
       "| 96.73 | 1.46 |\n",
       "| 99.42 | 1.55 |\n",
       "| 98.66 | 1.55 |\n",
       "| 96.07 | 1.55 |\n",
       "| 93.65 | 1.40 |\n",
       "| 87.31 | 1.15 |\n",
       "| 95.00 | 1.01 |\n",
       "| 96.85 | 0.99 |\n",
       "| 85.20 | 0.95 |\n",
       "| 90.56 | 0.98 |\n",
       "\n"
      ],
      "text/plain": [
       "   purity hydro\n",
       "1  86.91  1.02 \n",
       "2  89.85  1.11 \n",
       "3  90.28  1.43 \n",
       "4  86.34  1.11 \n",
       "5  92.58  1.01 \n",
       "6  87.33  0.95 \n",
       "7  86.29  1.11 \n",
       "8  91.86  0.87 \n",
       "9  95.61  1.43 \n",
       "10 89.86  1.02 \n",
       "11 96.73  1.46 \n",
       "12 99.42  1.55 \n",
       "13 98.66  1.55 \n",
       "14 96.07  1.55 \n",
       "15 93.65  1.40 \n",
       "16 87.31  1.15 \n",
       "17 95.00  1.01 \n",
       "18 96.85  0.99 \n",
       "19 85.20  0.95 \n",
       "20 90.56  0.98 "
      ]
     },
     "metadata": {},
     "output_type": "display_data"
    }
   ],
   "source": [
    "p1"
   ]
  },
  {
   "cell_type": "code",
   "execution_count": 4,
   "id": "4cd7ae8d-da81-44d2-9e55-414f6bde1083",
   "metadata": {},
   "outputs": [],
   "source": [
    "fit <- lm(purity ~ hydro, data=p1)"
   ]
  },
  {
   "cell_type": "code",
   "execution_count": 5,
   "id": "ffeb0879-9e0a-45d2-a6f0-f9f3af6def77",
   "metadata": {},
   "outputs": [
    {
     "data": {
      "text/plain": [
       "\n",
       "Call:\n",
       "lm(formula = purity ~ hydro, data = p1)\n",
       "\n",
       "Residuals:\n",
       "    Min      1Q  Median      3Q     Max \n",
       "-4.6724 -3.2113 -0.0626  2.5783  7.3037 \n",
       "\n",
       "Coefficients:\n",
       "            Estimate Std. Error t value Pr(>|t|)    \n",
       "(Intercept)   77.863      4.199  18.544 3.54e-13 ***\n",
       "hydro         11.801      3.485   3.386  0.00329 ** \n",
       "---\n",
       "Signif. codes:  0 ‘***’ 0.001 ‘**’ 0.01 ‘*’ 0.05 ‘.’ 0.1 ‘ ’ 1\n",
       "\n",
       "Residual standard error: 3.597 on 18 degrees of freedom\n",
       "Multiple R-squared:  0.3891,\tAdjusted R-squared:  0.3552 \n",
       "F-statistic: 11.47 on 1 and 18 DF,  p-value: 0.003291\n"
      ]
     },
     "metadata": {},
     "output_type": "display_data"
    }
   ],
   "source": [
    "summary(fit)"
   ]
  },
  {
   "cell_type": "code",
   "execution_count": 6,
   "id": "01c63bd5-0f19-4a1a-a276-fc2b6beb3a3a",
   "metadata": {},
   "outputs": [
    {
     "data": {
      "text/html": [
       "0.389122405808525"
      ],
      "text/latex": [
       "0.389122405808525"
      ],
      "text/markdown": [
       "0.389122405808525"
      ],
      "text/plain": [
       "[1] 0.3891224"
      ]
     },
     "metadata": {},
     "output_type": "display_data"
    }
   ],
   "source": [
    "summary(fit)$r.squared "
   ]
  },
  {
   "cell_type": "code",
   "execution_count": null,
   "id": "e5c31bd9-60f1-4aaf-a663-415687502ca4",
   "metadata": {},
   "outputs": [],
   "source": []
  }
 ],
 "metadata": {
  "kernelspec": {
   "display_name": "R",
   "language": "R",
   "name": "ir"
  },
  "language_info": {
   "codemirror_mode": "r",
   "file_extension": ".r",
   "mimetype": "text/x-r-source",
   "name": "R",
   "pygments_lexer": "r",
   "version": "4.1.1"
  }
 },
 "nbformat": 4,
 "nbformat_minor": 5
}
