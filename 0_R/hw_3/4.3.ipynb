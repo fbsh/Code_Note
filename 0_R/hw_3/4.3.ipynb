{
 "cells": [
  {
   "cell_type": "markdown",
   "id": "5b269a5a-3838-4140-8b9c-744a46183f94",
   "metadata": {},
   "source": [
    "1. Linear relation of each predictor with the response; perhaps the existence of outliers or influential points.\n",
    "2. Independence among predictors.\n",
    "3. Normality assumption of the residuals.\n",
    "4. Linearity; constant variance; and uncorrelation of residuals.\n",
    "5. Each observation has approximately equal influence."
   ]
  }
 ],
 "metadata": {
  "kernelspec": {
   "display_name": "R",
   "language": "R",
   "name": "ir"
  },
  "language_info": {
   "codemirror_mode": "r",
   "file_extension": ".r",
   "mimetype": "text/x-r-source",
   "name": "R",
   "pygments_lexer": "r",
   "version": "4.1.1"
  }
 },
 "nbformat": 4,
 "nbformat_minor": 5
}
