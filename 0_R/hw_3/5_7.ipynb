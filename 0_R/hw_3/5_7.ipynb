{
 "cells": [
  {
   "cell_type": "code",
   "execution_count": 1,
   "id": "02c46e1e",
   "metadata": {},
   "outputs": [],
   "source": [
    "import os"
   ]
  },
  {
   "cell_type": "code",
   "execution_count": 4,
   "id": "7e185e45",
   "metadata": {},
   "outputs": [
    {
     "name": "stdout",
     "output_type": "stream",
     "text": [
      "\n",
      "  ___  ____  ____  ____  ____ ©\n",
      " /__    /   ____/   /   ____/      17.0\n",
      "___/   /   /___/   /   /___/       MP—Parallel Edition\n",
      "\n",
      " Statistics and Data Science       Copyright 1985-2021 StataCorp LLC\n",
      "                                   StataCorp\n",
      "                                   4905 Lakeway Drive\n",
      "                                   College Station, Texas 77845 USA\n",
      "                                   800-STATA-PC        https://www.stata.com\n",
      "                                   979-696-4600        stata@stata.com\n",
      "\n",
      "Stata license: Unlimited-user 4-core network, expiring 13 Mar 2022\n",
      "Serial number: 501709301094\n",
      "  Licensed to: fbsh\n",
      "               \n",
      "\n",
      "Notes:\n",
      "      1. Unicode is supported; see help unicode_advice.\n",
      "      2. More than 2 billion observations are allowed; see help obs_advice.\n",
      "      3. Maximum number of variables is set to 5,000; see help set_maxvar.\n"
     ]
    }
   ],
   "source": [
    "from pystata import config\n",
    "config.init('mp')"
   ]
  },
  {
   "cell_type": "code",
   "execution_count": 45,
   "id": "51dc4b78",
   "metadata": {},
   "outputs": [
    {
     "name": "stdout",
     "output_type": "stream",
     "text": [
      "\n",
      ". use https://stats.idre.ucla.edu/stat/stata/examples/chp/p148, clear\n",
      "\n",
      ".     xi i.fertiliz\n",
      "i.fertiliz        _Ifertiliz_1-4      (naturally coded; _Ifertiliz_1 omitted)\n",
      "\n",
      ".     gen F1 = 0\n",
      "\n",
      ".     gen F2 = 0\n",
      "\n",
      ".     gen F3 = 0\n",
      "\n",
      ".     replace F1 = 1 if fertiliz == 1\n",
      "(10 real changes made)\n",
      "\n",
      ".     replace F2 = 1 if fertiliz == 2\n",
      "(10 real changes made)\n",
      "\n",
      ".     replace F3 = 1 if fertiliz == 3\n",
      "(10 real changes made)\n",
      "\n",
      ".     list\n",
      "\n",
      "     +------------------------------------------------------------------+\n",
      "     | yield   fertiliz   _Ifert~2   _Ifert~3   _Ifert~4   F1   F2   F3 |\n",
      "     |------------------------------------------------------------------|\n",
      "  1. |    31          1          0          0          0    1    0    0 |\n",
      "  2. |    34          1          0          0          0    1    0    0 |\n",
      "  3. |    34          1          0          0          0    1    0    0 |\n",
      "  4. |    34          1          0          0          0    1    0    0 |\n",
      "  5. |    43          1          0          0          0    1    0    0 |\n",
      "     |------------------------------------------------------------------|\n",
      "  6. |    35          1          0          0          0    1    0    0 |\n",
      "  7. |    38          1          0          0          0    1    0    0 |\n",
      "  8. |    36          1          0          0          0    1    0    0 |\n",
      "  9. |    36          1          0          0          0    1    0    0 |\n",
      " 10. |    45          1          0          0          0    1    0    0 |\n",
      "     |------------------------------------------------------------------|\n",
      " 11. |    27          2          1          0          0    0    1    0 |\n",
      " 12. |    27          2          1          0          0    0    1    0 |\n",
      " 13. |    25          2          1          0          0    0    1    0 |\n",
      " 14. |    34          2          1          0          0    0    1    0 |\n",
      " 15. |    21          2          1          0          0    0    1    0 |\n",
      "     |------------------------------------------------------------------|\n",
      " 16. |    36          2          1          0          0    0    1    0 |\n",
      " 17. |    34          2          1          0          0    0    1    0 |\n",
      " 18. |    30          2          1          0          0    0    1    0 |\n",
      " 19. |    32          2          1          0          0    0    1    0 |\n",
      " 20. |    33          2          1          0          0    0    1    0 |\n",
      "     |------------------------------------------------------------------|\n",
      " 21. |    36          3          0          1          0    0    0    1 |\n",
      " 22. |    37          3          0          1          0    0    0    1 |\n",
      " 23. |    37          3          0          1          0    0    0    1 |\n",
      " 24. |    34          3          0          1          0    0    0    1 |\n",
      " 25. |    37          3          0          1          0    0    0    1 |\n",
      "     |------------------------------------------------------------------|\n",
      " 26. |    28          3          0          1          0    0    0    1 |\n",
      " 27. |    33          3          0          1          0    0    0    1 |\n",
      " 28. |    29          3          0          1          0    0    0    1 |\n",
      " 29. |    36          3          0          1          0    0    0    1 |\n",
      " 30. |    42          3          0          1          0    0    0    1 |\n",
      "     |------------------------------------------------------------------|\n",
      " 31. |    33          4          0          0          1    0    0    0 |\n",
      " 32. |    27          4          0          0          1    0    0    0 |\n",
      " 33. |    35          4          0          0          1    0    0    0 |\n",
      " 34. |    25          4          0          0          1    0    0    0 |\n",
      " 35. |    29          4          0          0          1    0    0    0 |\n",
      "     |------------------------------------------------------------------|\n",
      " 36. |    20          4          0          0          1    0    0    0 |\n",
      " 37. |    25          4          0          0          1    0    0    0 |\n",
      " 38. |    40          4          0          0          1    0    0    0 |\n",
      " 39. |    35          4          0          0          1    0    0    0 |\n",
      " 40. |    29          4          0          0          1    0    0    0 |\n",
      "     +------------------------------------------------------------------+\n",
      "\n",
      ".     regress yield F1 F2 F3\n",
      "\n",
      "      Source |       SS           df       MS      Number of obs   =        40\n",
      "-------------+----------------------------------   F(3, 36)        =      5.14\n",
      "       Model |       362.6         3  120.866667   Prob > F        =    0.0046\n",
      "    Residual |       845.8        36  23.4944444   R-squared       =    0.3001\n",
      "-------------+----------------------------------   Adj R-squared   =    0.2417\n",
      "       Total |      1208.4        39  30.9846154   Root MSE        =    4.8471\n",
      "\n",
      "------------------------------------------------------------------------------\n",
      "       yield | Coefficient  Std. err.      t    P>|t|     [95% conf. interval]\n",
      "-------------+----------------------------------------------------------------\n",
      "          F1 |        6.8   2.167692     3.14   0.003     2.403717    11.19628\n",
      "          F2 |         .1   2.167692     0.05   0.963    -4.296283    4.496283\n",
      "          F3 |        5.1   2.167692     2.35   0.024     .7037167    9.496283\n",
      "       _cons |       29.8    1.53279    19.44   0.000     26.69136    32.90864\n",
      "------------------------------------------------------------------------------\n",
      "\n",
      ".     test F1 F2 F3\n",
      "\n",
      " ( 1)  F1 = 0\n",
      " ( 2)  F2 = 0\n",
      " ( 3)  F3 = 0\n",
      "\n",
      "       F(  3,    36) =    5.14\n",
      "            Prob > F =    0.0046\n",
      "\n",
      ".     test F1=F2=F3\n",
      "\n",
      " ( 1)  F1 - F2 = 0\n",
      " ( 2)  F1 - F3 = 0\n",
      "\n",
      "       F(  2,    36) =    5.16\n",
      "            Prob > F =    0.0107\n",
      "\n",
      ".     gen Fs = F1 + F2 + F3\n",
      "\n",
      ".     regress yield Fs\n",
      "\n",
      "      Source |       SS           df       MS      Number of obs   =        40\n",
      "-------------+----------------------------------   F(1, 38)        =      4.19\n",
      "       Model |         120         1         120   Prob > F        =    0.0476\n",
      "    Residual |      1088.4        38  28.6421053   R-squared       =    0.0993\n",
      "-------------+----------------------------------   Adj R-squared   =    0.0756\n",
      "       Total |      1208.4        39  30.9846154   Root MSE        =    5.3518\n",
      "\n",
      "------------------------------------------------------------------------------\n",
      "       yield | Coefficient  Std. err.      t    P>|t|     [95% conf. interval]\n",
      "-------------+----------------------------------------------------------------\n",
      "          Fs |          4   1.954213     2.05   0.048     .0439032    7.956097\n",
      "       _cons |       29.8   1.692398    17.61   0.000     26.37392    33.22608\n",
      "------------------------------------------------------------------------------\n",
      "\n",
      ". \n"
     ]
    }
   ],
   "source": [
    "%%stata\n",
    "use https://stats.idre.ucla.edu/stat/stata/examples/chp/p148, clear\n",
    "    xi i.fertiliz\n",
    "    gen F1 = 0\n",
    "    gen F2 = 0\n",
    "    gen F3 = 0\n",
    "    replace F1 = 1 if fertiliz == 1\n",
    "    replace F2 = 1 if fertiliz == 2\n",
    "    replace F3 = 1 if fertiliz == 3\n",
    "    list\n",
    "    regress yield F1 F2 F3\n",
    "    test F1 F2 F3\n",
    "    test F1=F2=F3\n",
    "    gen Fs = F1 + F2 + F3\n",
    "    regress yield Fs"
   ]
  },
  {
   "cell_type": "markdown",
   "id": "db98bed0",
   "metadata": {},
   "source": [
    "1. Shown above"
   ]
  },
  {
   "cell_type": "markdown",
   "id": "052f8c8d",
   "metadata": {},
   "source": [
    "2. Shown above. Fit the model $y_{i j}=\\mu_{0}+\\mu_{1} F_{i 1}+\\mu_{2} F_{i 2}+\\mu_{3} F_{i 3}+\\epsilon_{i j}$"
   ]
  },
  {
   "cell_type": "markdown",
   "id": "15cebdb0",
   "metadata": {},
   "source": [
    "3. Test the hypothesis that none of the three types of fertilizer has an effect on corn crops. Specify the hypothesis to be tested, the test used, and the conclusions at the $5 \\%$ significance level. Our null and alternative hypotheses are: $H_{0}: \\mu_{1}=\\mu_{2}=\\mu_{3}=0$ versus $H_{1}: \\mu_{j} \\neq 0$ for any $j=1,2,3$. $F$ test shown above. From the output, we can see that the $p$-value for the $F$ test is $0.0046<0.05$. Therefore, we reject the null and conclude that there is plenty of evidence to reject the null that the fertilizers have, on average, no effect. At least one fertilizer differs from the control group."
   ]
  },
  {
   "cell_type": "markdown",
   "id": "c6d60f65",
   "metadata": {},
   "source": [
    "4. Test the hypothesis that the three types of fertilizer have equal effects on corn crop. Specify the hypothesis to be tested, the test used and the conclusions at the $5 \\%$ significance level. To test for equal fertilizer effect, our null and alternative hypotheses are: $H_{0}: \\mu_{1}=\\mu_{2}=$ $\\mu_{3}$ versus $H_{1}: \\mu_{j} \\neq \\mu_{k}$ for any $j, k=1,2,3$ and $j \\neq k$. The $p$-value for this test is $0.0107 .$ So, there is strong evidence to suggest that there are some differences between different fertilizers in terms of the mean yield."
   ]
  },
  {
   "cell_type": "markdown",
   "id": "95492dbc",
   "metadata": {},
   "source": [
    "5. To test whether a common estimate of the fertilizer effect, call it $\\mu_{F}$, is actually different from zero. The null and alternative are $H_{0}: \\mu_{F}=0$ versus $H_{1}: \\mu_{F} \\neq 0 .$ From the output, the $p$-value for the $t$-test of $\\mu_{F}=0$ is $0.048$ and we compare it to the significance level of $0.05$ so the common fertilizer effect is significantly different from that of the control."
   ]
  }
 ],
 "metadata": {
  "kernelspec": {
   "display_name": "Python 3 (ipykernel)",
   "language": "python",
   "name": "python3"
  },
  "language_info": {
   "codemirror_mode": {
    "name": "ipython",
    "version": 3
   },
   "file_extension": ".py",
   "mimetype": "text/x-python",
   "name": "python",
   "nbconvert_exporter": "python",
   "pygments_lexer": "ipython3",
   "version": "3.8.11"
  }
 },
 "nbformat": 4,
 "nbformat_minor": 5
}
