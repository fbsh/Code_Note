{
 "cells": [
  {
   "cell_type": "code",
   "execution_count": 6,
   "id": "87604fd4-91b9-4478-bcc6-82e87fde95f4",
   "metadata": {},
   "outputs": [
    {
     "data": {
      "text/plain": [
       "\u001b[32mimport \u001b[39m\u001b[36mcollection.mutable.Buffer \n",
       "\u001b[39m\n",
       "\u001b[36maccessors1\u001b[39m: \u001b[32mBuffer\u001b[39m[() => \u001b[32mInt\u001b[39m] = \u001b[33mArrayBuffer\u001b[39m(\n",
       "  ammonite.$sess.cmd5$Helper$$Lambda$2355/0x0000000840b98440@4700caf3,\n",
       "  ammonite.$sess.cmd5$Helper$$Lambda$2355/0x0000000840b98440@3c6e0c54,\n",
       "  ammonite.$sess.cmd5$Helper$$Lambda$2355/0x0000000840b98440@6653dcc7\n",
       ")\n",
       "\u001b[36maccessors2\u001b[39m: \u001b[32mBuffer\u001b[39m[() => \u001b[32mInt\u001b[39m] = \u001b[33mArrayBuffer\u001b[39m(\n",
       "  ammonite.$sess.cmd5$Helper$$Lambda$2356/0x0000000840b99040@31102e4e,\n",
       "  ammonite.$sess.cmd5$Helper$$Lambda$2356/0x0000000840b99040@1d35a84a,\n",
       "  ammonite.$sess.cmd5$Helper$$Lambda$2356/0x0000000840b99040@76ba1184\n",
       ")\n",
       "\u001b[36mdata\u001b[39m: \u001b[32mSeq\u001b[39m[\u001b[32mInt\u001b[39m] = \u001b[33mList\u001b[39m(\u001b[32m100\u001b[39m, \u001b[32m110\u001b[39m, \u001b[32m120\u001b[39m)"
      ]
     },
     "execution_count": 6,
     "metadata": {},
     "output_type": "execute_result"
    }
   ],
   "source": [
    "import collection.mutable.Buffer \n",
    "val accessors1 = Buffer.empty[() => Int] \n",
    "val accessors2 = Buffer.empty[() => Int]\n",
    "\n",
    "val data = Seq(100, 110, 120) \n",
    "for (i <-0 until data.length) {\n",
    "    var j = 0\n",
    "    accessors1 += (() => data(i))\n",
    "    accessors2 += (() => data(j))\n",
    "    j += 1\n",
    "}"
   ]
  },
  {
   "cell_type": "code",
   "execution_count": 7,
   "id": "d5382ad6-8ed5-4352-beab-e3b1620cf017",
   "metadata": {},
   "outputs": [
    {
     "name": "stdout",
     "output_type": "stream",
     "text": [
      "100\n",
      "110\n",
      "120\n"
     ]
    }
   ],
   "source": [
    "accessors1.foreach(a1 => println(a1()))"
   ]
  },
  {
   "cell_type": "code",
   "execution_count": 8,
   "id": "5e1c5a07-2d21-4224-91dc-33bb3b4d539f",
   "metadata": {},
   "outputs": [
    {
     "name": "stdout",
     "output_type": "stream",
     "text": [
      "110\n",
      "110\n",
      "110\n"
     ]
    }
   ],
   "source": [
    "accessors2.foreach(a2 => println(a2()))"
   ]
  },
  {
   "cell_type": "code",
   "execution_count": 9,
   "id": "3bf56e4d-1ffd-4540-8313-f591ab82ce6a",
   "metadata": {},
   "outputs": [
    {
     "data": {
      "text/html": [
       "<div class=\"jp-RenderedText\">\n",
       "<pre><code><span style=\"color: rgb(0, 187, 0)\"><span class=\"ansi-green-fg\">import </span></span><span style=\"color: rgb(0, 187, 187)\"><span class=\"ansi-cyan-fg\">collection.mutable.Buffer \n",
       "</span></span>\n",
       "<span style=\"color: rgb(0, 187, 187)\"><span class=\"ansi-cyan-fg\">accessors2</span></span>: <span style=\"color: rgb(0, 187, 0)\"><span class=\"ansi-green-fg\">Buffer</span></span>[() =&gt; <span style=\"color: rgb(0, 187, 0)\"><span class=\"ansi-green-fg\">Int</span></span>] = <span style=\"color: yellow\"><span class=\"ansi-yellow-fg\">ArrayBuffer</span></span>(\n",
       "  ammonite.$sess.cmd8$Helper$$Lambda$2384/0x0000000840ba9840@2510b0e5,\n",
       "  ammonite.$sess.cmd8$Helper$$Lambda$2384/0x0000000840ba9840@5fec984d,\n",
       "  ammonite.$sess.cmd8$Helper$$Lambda$2384/0x0000000840ba9840@6371b09e\n",
       ")\n",
       "<span style=\"color: rgb(0, 187, 187)\"><span class=\"ansi-cyan-fg\">j</span></span>: <span style=\"color: rgb(0, 187, 0)\"><span class=\"ansi-green-fg\">Int</span></span> = <span style=\"color: rgb(0, 187, 0)\"><span class=\"ansi-green-fg\">3</span></span>\n",
       "<span style=\"color: rgb(0, 187, 187)\"><span class=\"ansi-cyan-fg\">data</span></span>: <span style=\"color: rgb(0, 187, 0)\"><span class=\"ansi-green-fg\">Seq</span></span>[<span style=\"color: rgb(0, 187, 0)\"><span class=\"ansi-green-fg\">Int</span></span>] = <span style=\"color: yellow\"><span class=\"ansi-yellow-fg\">List</span></span>(<span style=\"color: rgb(0, 187, 0)\"><span class=\"ansi-green-fg\">100</span></span>, <span style=\"color: rgb(0, 187, 0)\"><span class=\"ansi-green-fg\">110</span></span>, <span style=\"color: rgb(0, 187, 0)\"><span class=\"ansi-green-fg\">120</span></span>)</code></pre>\n",
       "</div>"
      ],
      "text/plain": [
       "\u001b[32mimport \u001b[39m\u001b[36mcollection.mutable.Buffer \n",
       "\u001b[39m\n",
       "\u001b[36maccessors2\u001b[39m: \u001b[32mBuffer\u001b[39m[() => \u001b[32mInt\u001b[39m] = \u001b[33mArrayBuffer\u001b[39m(\n",
       "  ammonite.$sess.cmd8$Helper$$Lambda$2384/0x0000000840ba9840@2510b0e5,\n",
       "  ammonite.$sess.cmd8$Helper$$Lambda$2384/0x0000000840ba9840@5fec984d,\n",
       "  ammonite.$sess.cmd8$Helper$$Lambda$2384/0x0000000840ba9840@6371b09e\n",
       ")\n",
       "\u001b[36mj\u001b[39m: \u001b[32mInt\u001b[39m = \u001b[32m3\u001b[39m\n",
       "\u001b[36mdata\u001b[39m: \u001b[32mSeq\u001b[39m[\u001b[32mInt\u001b[39m] = \u001b[33mList\u001b[39m(\u001b[32m100\u001b[39m, \u001b[32m110\u001b[39m, \u001b[32m120\u001b[39m)"
      ]
     },
     "metadata": {},
     "output_type": "display_data"
    }
   ],
   "source": [
    "import collection.mutable.Buffer \n",
    "val accessors2 = Buffer.empty[() => Int]\n",
    "var j = 0\n",
    "val data = Seq(100, 110, 120) \n",
    "for (i <- 0 until data.length){\n",
    "    val currentJ = j \n",
    "    accessors2 += (() => data(currentJ))\n",
    "    j += 1\n",
    "}"
   ]
  },
  {
   "cell_type": "code",
   "execution_count": 10,
   "id": "16e76876-2b67-41a4-bc78-4936caae4b21",
   "metadata": {},
   "outputs": [
    {
     "name": "stdout",
     "output_type": "stream",
     "text": [
      "100\n",
      "110\n",
      "120\n"
     ]
    }
   ],
   "source": [
    "accessors2.foreach(a2 => println(a2()))"
   ]
  },
  {
   "cell_type": "code",
   "execution_count": 12,
   "id": "31f0655e-a048-4b00-bcf6-38ba6eaff9ac",
   "metadata": {},
   "outputs": [
    {
     "name": "stdout",
     "output_type": "stream",
     "text": [
      "** Paychecks:\n",
      "Buck Trends:        2784.62\n",
      "Cindy Banks:        2430.00\n",
      "Joe Coder:          1880.00\n",
      "\n",
      "** Report:\n",
      "Total Salary:    9615.38\n",
      "Total Net:    7094.62\n",
      "Total Insurance:     340.00\n"
     ]
    },
    {
     "data": {
      "text/plain": [
       "defined \u001b[32mclass\u001b[39m \u001b[36mEmployee\u001b[39m\n",
       "\u001b[36memployees\u001b[39m: \u001b[32mList\u001b[39m[\u001b[32mEmployee\u001b[39m] = \u001b[33mList\u001b[39m(\n",
       "  \u001b[33mEmployee\u001b[39m(\u001b[32m\"Buck Trends\"\u001b[39m, \u001b[32m\"CEO\"\u001b[39m, \u001b[32m200000.0\u001b[39m, \u001b[32m0.25\u001b[39m, \u001b[32m100.0\u001b[39m),\n",
       "  \u001b[33mEmployee\u001b[39m(\u001b[32m\"Cindy Banks\"\u001b[39m, \u001b[32m\"CFO\"\u001b[39m, \u001b[32m170000.0\u001b[39m, \u001b[32m0.22\u001b[39m, \u001b[32m120.0\u001b[39m),\n",
       "  \u001b[33mEmployee\u001b[39m(\u001b[32m\"Joe Coder\"\u001b[39m, \u001b[32m\"Developer\"\u001b[39m, \u001b[32m130000.0\u001b[39m, \u001b[32m0.2\u001b[39m, \u001b[32m120.0\u001b[39m)\n",
       ")\n",
       "\u001b[36mnetPay\u001b[39m: \u001b[32mList\u001b[39m[(\u001b[32mEmployee\u001b[39m, \u001b[32mDouble\u001b[39m)] = \u001b[33mList\u001b[39m(\n",
       "  (\u001b[33mEmployee\u001b[39m(\u001b[32m\"Buck Trends\"\u001b[39m, \u001b[32m\"CEO\"\u001b[39m, \u001b[32m200000.0\u001b[39m, \u001b[32m0.25\u001b[39m, \u001b[32m100.0\u001b[39m), \u001b[32m2784.6153846153848\u001b[39m),\n",
       "  (\u001b[33mEmployee\u001b[39m(\u001b[32m\"Cindy Banks\"\u001b[39m, \u001b[32m\"CFO\"\u001b[39m, \u001b[32m170000.0\u001b[39m, \u001b[32m0.22\u001b[39m, \u001b[32m120.0\u001b[39m), \u001b[32m2430.0\u001b[39m),\n",
       "  (\u001b[33mEmployee\u001b[39m(\u001b[32m\"Joe Coder\"\u001b[39m, \u001b[32m\"Developer\"\u001b[39m, \u001b[32m130000.0\u001b[39m, \u001b[32m0.2\u001b[39m, \u001b[32m120.0\u001b[39m), \u001b[32m1880.0\u001b[39m)\n",
       ")\n",
       "\u001b[36mreport\u001b[39m: (\u001b[32mDouble\u001b[39m, \u001b[32mDouble\u001b[39m, \u001b[32mDouble\u001b[39m) = (\u001b[32m9615.384615384615\u001b[39m, \u001b[32m7094.615384615385\u001b[39m, \u001b[32m340.0\u001b[39m)"
      ]
     },
     "execution_count": 12,
     "metadata": {},
     "output_type": "execute_result"
    }
   ],
   "source": [
    "case class Employee (\n",
    "    name: String, \n",
    "    title: String, \n",
    "    annualSalary: Double, \n",
    "    taxRate: Double, \n",
    "    insurancePremiumsPerWeek: Double\n",
    ")\n",
    "\n",
    "val employees = List(\n",
    "    Employee(\"Buck Trends\", \"CEO\", 200000, 0.25, 100.0), \n",
    "    Employee(\"Cindy Banks\", \"CFO\", 170000, 0.22, 120.0), \n",
    "    Employee(\"Joe Coder\", \"Developer\", 130000, 0.20, 120.0)\n",
    ")\n",
    "\n",
    "// 计算每周工资单:\n",
    "\n",
    "val netPay = employees map { e =>\n",
    "    val net = (1.0 - e.taxRate) * (e.annualSalary / 52.0) - e.insurancePremiumsPerWeek\n",
    "    (e, net) \n",
    "}\n",
    "\n",
    "//“打印” 工资单 \n",
    "\n",
    "println(\"** Paychecks:\") \n",
    "netPay foreach { \n",
    "    case (e, net) => println(f\"${e.name+':'}%-16s ${net}%10.2f\")\n",
    "}\n",
    "\n",
    "// 生成报表:\n",
    "\n",
    "\n",
    "\n",
    "val report = (netPay foldLeft (0.0, 0.0, 0.0)) { \n",
    "    case ((totalSalary, totalNet, totalInsurance), (e, net)) => (\n",
    "        totalSalary + e.annualSalary/52.0, \n",
    "        totalNet + net, \n",
    "        totalInsurance + e.insurancePremiumsPerWeek) \n",
    "}\n",
    "\n",
    "println(\"\\n** Report:\") \n",
    "println(f\"Total Salary: ${report._1}%10.2f\") \n",
    "println(f\"Total Net: ${report._2}%10.2f\") \n",
    "println(f\"Total Insurance: ${report._3}%10.2f\")"
   ]
  },
  {
   "cell_type": "code",
   "execution_count": null,
   "id": "9440629f-9928-4246-a984-5d8cf78a1b4c",
   "metadata": {},
   "outputs": [],
   "source": []
  }
 ],
 "metadata": {
  "kernelspec": {
   "display_name": "Scala",
   "language": "scala",
   "name": "scala"
  },
  "language_info": {
   "codemirror_mode": "text/x-scala",
   "file_extension": ".scala",
   "mimetype": "text/x-scala",
   "name": "scala",
   "nbconvert_exporter": "script",
   "version": "2.12.11"
  }
 },
 "nbformat": 4,
 "nbformat_minor": 5
}
