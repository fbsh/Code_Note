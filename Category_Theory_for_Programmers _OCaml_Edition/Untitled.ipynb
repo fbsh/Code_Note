{
 "cells": [
  {
   "cell_type": "code",
   "execution_count": 25,
   "id": "ab6e784b-fec6-467b-b3ee-a7c6c9eb7ecb",
   "metadata": {},
   "outputs": [
    {
     "data": {
      "text/plain": [
       "type positive = int\n"
      ]
     },
     "execution_count": 25,
     "metadata": {},
     "output_type": "execute_result"
    },
    {
     "data": {
      "text/plain": [
       "type point = float * float\n"
      ]
     },
     "execution_count": 25,
     "metadata": {},
     "output_type": "execute_result"
    }
   ],
   "source": [
    "type positive = int ;;\n",
    "type point = float * float ;;"
   ]
  },
  {
   "cell_type": "code",
   "execution_count": 26,
   "id": "ef9fab5a-4217-414f-87c0-a0110a116a1c",
   "metadata": {},
   "outputs": [
    {
     "data": {
      "text/plain": [
       "val x : positive = -1\n"
      ]
     },
     "execution_count": 26,
     "metadata": {},
     "output_type": "execute_result"
    }
   ],
   "source": [
    "let x : positive = -1 ;;"
   ]
  },
  {
   "cell_type": "code",
   "execution_count": 1,
   "id": "4f00ef98-2a48-4bdc-8532-8ba795ae793b",
   "metadata": {},
   "outputs": [
    {
     "ename": "error",
     "evalue": "compile_error",
     "output_type": "error",
     "traceback": [
      "File \"[1]\", line 2, characters 9-31:\n2 |     (F : Polymorphic_Function_F)\n             ^^^^^^^^^^^^^^^^^^^^^^\nError: Unbound module type Polymorphic_Function_F\n"
     ]
    }
   ],
   "source": [
    "module Compose_Example \n",
    "    (F : Polymorphic_Function_F)\n",
    "    (G : Polymorphic_Function_G with type b = F.b) = \n",
    "struct (** OCaml doesn't have a compose operator. So, creating one. **)\n",
    "    let ( >> ) g f x = g (f x)\n",
    "    let compose : 'a -> 'c = G.g >> F.f \n",
    "end"
   ]
  },
  {
   "cell_type": "code",
   "execution_count": 3,
   "id": "d634ee1e-3403-47ae-a8a6-0b23889fd0bb",
   "metadata": {},
   "outputs": [
    {
     "data": {
      "text/plain": [
       "- : bool = true\n"
      ]
     },
     "execution_count": 3,
     "metadata": {},
     "output_type": "execute_result"
    }
   ],
   "source": [
    "List.mem 3 [1;3;4] ;;"
   ]
  },
  {
   "cell_type": "code",
   "execution_count": 4,
   "id": "2d9215d7-190b-45b4-aab5-802409d916fb",
   "metadata": {},
   "outputs": [
    {
     "data": {
      "text/plain": [
       "val set_add : 'a -> 'a list -> 'a list = <fun>\n"
      ]
     },
     "execution_count": 4,
     "metadata": {},
     "output_type": "execute_result"
    }
   ],
   "source": [
    "let set_add e set = if List.mem e set then set else e::set ;;"
   ]
  },
  {
   "cell_type": "code",
   "execution_count": 5,
   "id": "904cc108-c62b-4f88-ad73-9a9057f65b23",
   "metadata": {},
   "outputs": [
    {
     "data": {
      "text/plain": [
       "val member : 'a -> 'a list -> bool = <fun>\n"
      ]
     },
     "execution_count": 5,
     "metadata": {},
     "output_type": "execute_result"
    }
   ],
   "source": [
    "let member e set = List.exists (function x -> x=e) set ;;"
   ]
  },
  {
   "cell_type": "code",
   "execution_count": 6,
   "id": "81ade52e-20f6-472c-954b-12a36a3ac7a0",
   "metadata": {},
   "outputs": [
    {
     "data": {
      "text/plain": [
       "- : bool = true\n"
      ]
     },
     "execution_count": 6,
     "metadata": {},
     "output_type": "execute_result"
    }
   ],
   "source": [
    "member 3 [1;3;5] ;;"
   ]
  },
  {
   "cell_type": "code",
   "execution_count": 7,
   "id": "e02312d6-7ced-4274-8e77-11e2de30d8f3",
   "metadata": {},
   "outputs": [
    {
     "data": {
      "text/plain": [
       "- : bool = false\n"
      ]
     },
     "execution_count": 7,
     "metadata": {},
     "output_type": "execute_result"
    }
   ],
   "source": [
    "member 4 [1;3;5] ;;"
   ]
  },
  {
   "cell_type": "code",
   "execution_count": 8,
   "id": "0e99450a-fac4-4902-9f1d-468173732550",
   "metadata": {},
   "outputs": [
    {
     "data": {
      "text/plain": [
       "- : bool = true\n"
      ]
     },
     "execution_count": 8,
     "metadata": {},
     "output_type": "execute_result"
    }
   ],
   "source": [
    "member (1,2) [(3,4);(0,1);(1,2)] ;;"
   ]
  },
  {
   "cell_type": "code",
   "execution_count": 9,
   "id": "faf49df9-455b-4a52-957b-659724d939f3",
   "metadata": {},
   "outputs": [
    {
     "data": {
      "text/plain": [
       "- : bool = true\n"
      ]
     },
     "execution_count": 9,
     "metadata": {},
     "output_type": "execute_result"
    }
   ],
   "source": [
    "member [1;2;3] [[1;2];[1;2;3];[4;5]] ;;"
   ]
  },
  {
   "cell_type": "code",
   "execution_count": null,
   "id": "a6aa6add-bbcd-44aa-aec5-db10dd53aaff",
   "metadata": {},
   "outputs": [],
   "source": []
  }
 ],
 "metadata": {
  "kernelspec": {
   "display_name": "OCaml 4.11.1",
   "language": "OCaml",
   "name": "ocaml-jupyter-4.11.1"
  },
  "language_info": {
   "codemirror_mode": "text/x-ocaml",
   "file_extension": ".ml",
   "mimetype": "text/x-ocaml",
   "name": "OCaml",
   "nbconverter_exporter": null,
   "pygments_lexer": "OCaml",
   "version": "4.11.1"
  }
 },
 "nbformat": 4,
 "nbformat_minor": 5
}
