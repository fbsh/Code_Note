{
 "cells": [
  {
   "cell_type": "markdown",
   "metadata": {},
   "source": [
    "1.5 乘积类型和模式匹配初步"
   ]
  },
  {
   "cell_type": "code",
   "execution_count": 49,
   "metadata": {},
   "outputs": [
    {
     "data": {
      "text/plain": "- : string * float * int = (\"pi\", 3.14, 5)\n"
     },
     "execution_count": 49,
     "metadata": {},
     "output_type": "execute_result"
    }
   ],
   "source": [
    "\"pi\", 3.14, 5 ;;"
   ]
  },
  {
   "cell_type": "code",
   "execution_count": 50,
   "metadata": {},
   "outputs": [
    {
     "data": {
      "text/plain": "- : int * (int * int) * ((int * int) * int) = (1, (2, 3), ((4, 5), 6))\n"
     },
     "execution_count": 50,
     "metadata": {},
     "output_type": "execute_result"
    }
   ],
   "source": [
    "1, (2, 3), ((4, 5), 6) ;;"
   ]
  },
  {
   "cell_type": "code",
   "execution_count": 52,
   "metadata": {},
   "outputs": [
    {
     "data": {
      "text/plain": "- : int * int = (3, 4)\n"
     },
     "execution_count": 52,
     "metadata": {},
     "output_type": "execute_result"
    }
   ],
   "source": [
    "let a = 1, ((2, 3), 4) in let _, ((_, y), z) = a in y, z ;;"
   ]
  },
  {
   "cell_type": "markdown",
   "metadata": {},
   "source": [
    "1.6 函数和函数类型"
   ]
  },
  {
   "cell_type": "code",
   "execution_count": 25,
   "metadata": {},
   "outputs": [],
   "source": [
    "(* 1.6 函数和函数类型 *)"
   ]
  },
  {
   "cell_type": "code",
   "execution_count": 13,
   "metadata": {},
   "outputs": [
    {
     "data": {
      "text/plain": "val add1 : int -> int = <fun>\n"
     },
     "execution_count": 13,
     "metadata": {},
     "output_type": "execute_result"
    },
    {
     "data": {
      "text/plain": "- : int = 3\n"
     },
     "execution_count": 13,
     "metadata": {},
     "output_type": "execute_result"
    }
   ],
   "source": [
    "let add1 x = x + 1 ;;\n",
    "add1 2 ;;"
   ]
  },
  {
   "cell_type": "code",
   "execution_count": 16,
   "metadata": {},
   "outputs": [
    {
     "data": {
      "text/plain": "val square : float -> float = <fun>\n"
     },
     "execution_count": 16,
     "metadata": {},
     "output_type": "execute_result"
    },
    {
     "data": {
      "text/plain": "val distance : float * float -> float * float -> float = <fun>\n"
     },
     "execution_count": 16,
     "metadata": {},
     "output_type": "execute_result"
    },
    {
     "data": {
      "text/plain": "- : float = 5.\n"
     },
     "execution_count": 16,
     "metadata": {},
     "output_type": "execute_result"
    }
   ],
   "source": [
    "let square x = x *. x ;;\n",
    "let distance (a, b) (c, d) = sqrt ( square (a -. c) +. square (b -. d) ) ;;\n",
    "distance (-.3. , -.4.) (0. , 0.) ;;"
   ]
  },
  {
   "cell_type": "code",
   "execution_count": 18,
   "metadata": {},
   "outputs": [
    {
     "data": {
      "text/plain": "val distance : float * float -> float * float -> float = <fun>\n"
     },
     "execution_count": 18,
     "metadata": {},
     "output_type": "execute_result"
    },
    {
     "data": {
      "text/plain": "- : float = 5.\n"
     },
     "execution_count": 18,
     "metadata": {},
     "output_type": "execute_result"
    }
   ],
   "source": [
    "let distance (a, b) (c, d) = \n",
    "    let square x = x *. x in \n",
    "    sqrt (square (a -. c) +. square (b -. d)) \n",
    ";;\n",
    "distance (-.3. , -.4.) (0. , 0.) ;;"
   ]
  },
  {
   "cell_type": "code",
   "execution_count": 20,
   "metadata": {},
   "outputs": [
    {
     "data": {
      "text/plain": "val half_adder : bool * bool -> bool * bool = <fun>\n"
     },
     "execution_count": 20,
     "metadata": {},
     "output_type": "execute_result"
    },
    {
     "data": {
      "text/plain": "- : bool * bool = (false, false)\n"
     },
     "execution_count": 20,
     "metadata": {},
     "output_type": "execute_result"
    },
    {
     "data": {
      "text/plain": "- : bool * bool = (true, false)\n"
     },
     "execution_count": 20,
     "metadata": {},
     "output_type": "execute_result"
    },
    {
     "data": {
      "text/plain": "- : bool * bool = (true, false)\n"
     },
     "execution_count": 20,
     "metadata": {},
     "output_type": "execute_result"
    },
    {
     "data": {
      "text/plain": "- : bool * bool = (false, true)\n"
     },
     "execution_count": 20,
     "metadata": {},
     "output_type": "execute_result"
    }
   ],
   "source": [
    "let half_adder (a, b) = \n",
    "let s = a <> b (* xor *)\n",
    "and c = a && b in\n",
    "(s, c) \n",
    ";;\n",
    "\n",
    "half_adder (false, false);;\n",
    "half_adder (true, false);;\n",
    "half_adder (false, true);;\n",
    "half_adder (true, true);;"
   ]
  },
  {
   "cell_type": "code",
   "execution_count": 21,
   "metadata": {},
   "outputs": [
    {
     "data": {
      "text/plain": "val full_adder : bool * bool * bool -> bool * bool = <fun>\n"
     },
     "execution_count": 21,
     "metadata": {},
     "output_type": "execute_result"
    },
    {
     "data": {
      "text/plain": "val fff : bool * bool = (false, false)\n"
     },
     "execution_count": 21,
     "metadata": {},
     "output_type": "execute_result"
    },
    {
     "data": {
      "text/plain": "val tff : bool * bool = (true, false)\n"
     },
     "execution_count": 21,
     "metadata": {},
     "output_type": "execute_result"
    },
    {
     "data": {
      "text/plain": "val ftf : bool * bool = (true, false)\n"
     },
     "execution_count": 21,
     "metadata": {},
     "output_type": "execute_result"
    },
    {
     "data": {
      "text/plain": "val ttf : bool * bool = (false, true)\n"
     },
     "execution_count": 21,
     "metadata": {},
     "output_type": "execute_result"
    },
    {
     "data": {
      "text/plain": "val fft : bool * bool = (true, false)\n"
     },
     "execution_count": 21,
     "metadata": {},
     "output_type": "execute_result"
    },
    {
     "data": {
      "text/plain": "val tft : bool * bool = (false, true)\n"
     },
     "execution_count": 21,
     "metadata": {},
     "output_type": "execute_result"
    },
    {
     "data": {
      "text/plain": "val ftt : bool * bool = (false, true)\n"
     },
     "execution_count": 21,
     "metadata": {},
     "output_type": "execute_result"
    },
    {
     "data": {
      "text/plain": "val ttt : bool * bool = (true, true)\n"
     },
     "execution_count": 21,
     "metadata": {},
     "output_type": "execute_result"
    }
   ],
   "source": [
    "let full_adder (input_a, input_b, carry_in) = \n",
    "let s, carry_out = half_adder (input_a, input_b) in \n",
    "let sum, c = half_adder (carry_in, s) in \n",
    "    sum, (carry_out || c) \n",
    ";;\n",
    "\n",
    "let fff = full_adder (false, false, false) \n",
    "let tff = full_adder (true, false, false) \n",
    "let ftf = full_adder (false, true, false) \n",
    "let ttf = full_adder (true, true, false) \n",
    "let fft = full_adder (false, false, true) \n",
    "let tft = full_adder (true, false, true) \n",
    "let ftt = full_adder (false, true, true) \n",
    "let ttt = full_adder (true, true, true) ;;"
   ]
  },
  {
   "cell_type": "code",
   "execution_count": 6,
   "metadata": {},
   "outputs": [
    {
     "data": {
      "text/plain": "val h : (float -> float) -> float -> float = <fun>\n"
     },
     "execution_count": 6,
     "metadata": {},
     "output_type": "execute_result"
    },
    {
     "data": {
      "text/plain": "- : float = 0.998334166468281548\n"
     },
     "execution_count": 6,
     "metadata": {},
     "output_type": "execute_result"
    }
   ],
   "source": [
    "let h f x = (f x) /. x ;;\n",
    "h sin 0.1 ;;"
   ]
  },
  {
   "cell_type": "code",
   "execution_count": 24,
   "metadata": {},
   "outputs": [
    {
     "data": {
      "text/plain": "val full_adderi : int * int * int -> int * int = <fun>\n"
     },
     "execution_count": 24,
     "metadata": {},
     "output_type": "execute_result"
    },
    {
     "data": {
      "text/plain": "- : int * int = (1, 1)\n"
     },
     "execution_count": 24,
     "metadata": {},
     "output_type": "execute_result"
    }
   ],
   "source": [
    "let full_adderi (input_a, input_b, carry_in) = \n",
    "let i2b i = if i=0 then false else true in \n",
    "let b2i b = if b then 1 else 0 in \n",
    "let a = i2b input_a in\n",
    "let b = i2b input_b in \n",
    "let cin = i2b carry_in in \n",
    "let s, c = full_adder (a, b, cin) in \n",
    "    (b2i s), (b2i c) ;;\n",
    "\n",
    "full_adderi (1, 1, 1) ;;"
   ]
  },
  {
   "cell_type": "code",
   "execution_count": 28,
   "metadata": {},
   "outputs": [
    {
     "data": {
      "text/plain": "val factorial : int -> int = <fun>\n"
     },
     "execution_count": 28,
     "metadata": {},
     "output_type": "execute_result"
    },
    {
     "data": {
      "text/plain": "- : int = 6\n"
     },
     "execution_count": 28,
     "metadata": {},
     "output_type": "execute_result"
    }
   ],
   "source": [
    "let rec factorial n = if n = 0 then 1 else n * factorial (n - 1) ;;\n",
    "factorial 3 ;;"
   ]
  },
  {
   "cell_type": "code",
   "execution_count": 31,
   "metadata": {},
   "outputs": [
    {
     "data": {
      "text/plain": "val power_fun1 : float -> int -> float = <fun>\n"
     },
     "execution_count": 31,
     "metadata": {},
     "output_type": "execute_result"
    },
    {
     "data": {
      "text/plain": "- : float = 243.\n"
     },
     "execution_count": 31,
     "metadata": {},
     "output_type": "execute_result"
    }
   ],
   "source": [
    "let rec power_fun1 a n =\n",
    "    if n = 0\n",
    "    then 1.\n",
    "    else power_fun1 a (n-1) *. a ;;\n",
    "\n",
    "power_fun1 3. 5 ;;"
   ]
  },
  {
   "cell_type": "code",
   "execution_count": 33,
   "metadata": {},
   "outputs": [
    {
     "data": {
      "text/plain": "val sq : float -> float = <fun>\n"
     },
     "execution_count": 33,
     "metadata": {},
     "output_type": "execute_result"
    },
    {
     "data": {
      "text/plain": "val power_fun2 : float -> int -> float = <fun>\n"
     },
     "execution_count": 33,
     "metadata": {},
     "output_type": "execute_result"
    },
    {
     "data": {
      "text/plain": "- : float = 256.\n"
     },
     "execution_count": 33,
     "metadata": {},
     "output_type": "execute_result"
    }
   ],
   "source": [
    "let sq x = x *. x ;;\n",
    "let rec power_fun2 a n =\n",
    "    if n = 0\n",
    "    then 1.\n",
    "    else if (n mod 2 = 0)\n",
    "    then sq (power_fun2 a (n/2)) else a *. sq (power_fun2 a (n/2)) ;;\n",
    "\n",
    "power_fun2 2. 8 ;;"
   ]
  },
  {
   "cell_type": "code",
   "execution_count": 34,
   "metadata": {},
   "outputs": [
    {
     "data": {
      "text/plain": "val even : int -> bool = <fun>\nval odd : int -> bool = <fun>\n"
     },
     "execution_count": 34,
     "metadata": {},
     "output_type": "execute_result"
    }
   ],
   "source": [
    "let rec even n = if n = 0 then true else odd(n-1) \n",
    "and odd n = if n = 0 then false else even(n-1) ;;"
   ]
  },
  {
   "cell_type": "code",
   "execution_count": 35,
   "metadata": {},
   "outputs": [
    {
     "data": {
      "text/plain": "val even : int -> bool = <fun>\nval odd : int -> bool = <fun>\n"
     },
     "execution_count": 35,
     "metadata": {},
     "output_type": "execute_result"
    }
   ],
   "source": [
    "let rec even n = n=0 || odd (n-1)\n",
    "and odd n = n<>0 && even (n-1) ;;"
   ]
  },
  {
   "cell_type": "code",
   "execution_count": 36,
   "metadata": {},
   "outputs": [
    {
     "data": {
      "text/plain": "val neg : bool -> bool = <fun>\n"
     },
     "execution_count": 36,
     "metadata": {},
     "output_type": "execute_result"
    }
   ],
   "source": [
    "let neg x = \n",
    "    match x with \n",
    "    | true -> false \n",
    "    | false -> true ;;"
   ]
  },
  {
   "cell_type": "code",
   "execution_count": 37,
   "metadata": {},
   "outputs": [
    {
     "data": {
      "text/plain": "val is_zero : int -> bool = <fun>\n"
     },
     "execution_count": 37,
     "metadata": {},
     "output_type": "execute_result"
    }
   ],
   "source": [
    "let is_zero n = \n",
    "    match n with \n",
    "    | 0 -> true \n",
    "    | _ -> false ;;"
   ]
  },
  {
   "cell_type": "code",
   "execution_count": 46,
   "metadata": {},
   "outputs": [
    {
     "data": {
      "text/plain": "val a : int * int * int = (1, 2, 3)\n"
     },
     "execution_count": 46,
     "metadata": {},
     "output_type": "execute_result"
    }
   ],
   "source": [
    "let a = 1, 2, 3 ;;"
   ]
  },
  {
   "cell_type": "code",
   "execution_count": 47,
   "metadata": {},
   "outputs": [
    {
     "data": {
      "text/plain": "- : int = 2\n"
     },
     "execution_count": 47,
     "metadata": {},
     "output_type": "execute_result"
    }
   ],
   "source": [
    "let x, y, z = a in y ;;"
   ]
  },
  {
   "cell_type": "code",
   "execution_count": 45,
   "metadata": {},
   "outputs": [
    {
     "data": {
      "text/plain": "val f : char -> string = <fun>\n"
     },
     "execution_count": 45,
     "metadata": {},
     "output_type": "execute_result"
    },
    {
     "data": {
      "text/plain": "- : string = \"digit\"\n"
     },
     "execution_count": 45,
     "metadata": {},
     "output_type": "execute_result"
    }
   ],
   "source": [
    "let f (c:char) : string = \n",
    "    match c with \n",
    "    | '0'..'9' -> \"digit\" \n",
    "    | 'a'..'z' -> \"lowercase char\" \n",
    "    | 'A'..'Z' -> \"uppercase char\" \n",
    "    | _ -> \"other char\";; \n",
    "    \n",
    "f '3';;"
   ]
  },
  {
   "cell_type": "code",
   "execution_count": 53,
   "metadata": {},
   "outputs": [
    {
     "data": {
      "text/plain": "val xor : 'a -> 'a -> bool = <fun>\n"
     },
     "execution_count": 53,
     "metadata": {},
     "output_type": "execute_result"
    }
   ],
   "source": [
    "let xor x y = \n",
    "    match x,y with \n",
    "    | _,_ when x=y -> false \n",
    "    | _,_ -> true ;;"
   ]
  },
  {
   "cell_type": "markdown",
   "metadata": {},
   "source": [
    "1.7 多态类型"
   ]
  },
  {
   "cell_type": "code",
   "execution_count": 54,
   "metadata": {},
   "outputs": [
    {
     "data": {
      "text/plain": "- : 'a * 'b -> 'a = <fun>\n"
     },
     "execution_count": 54,
     "metadata": {},
     "output_type": "execute_result"
    }
   ],
   "source": [
    "fst ;;"
   ]
  },
  {
   "cell_type": "code",
   "execution_count": 55,
   "metadata": {},
   "outputs": [
    {
     "data": {
      "text/plain": "- : int = 1\n"
     },
     "execution_count": 55,
     "metadata": {},
     "output_type": "execute_result"
    }
   ],
   "source": [
    "fst (1, true) ;;"
   ]
  },
  {
   "cell_type": "code",
   "execution_count": null,
   "metadata": {},
   "outputs": [],
   "source": []
  }
 ],
 "metadata": {
  "kernelspec": {
   "display_name": "OCaml 4.11.1",
   "name": "ocaml-jupyter"
  },
  "language_info": {
   "codemirror_mode": "text/x-ocaml",
   "file_extension": ".ml",
   "mimetype": "text/x-ocaml",
   "name": "OCaml",
   "nbconverter_exporter": null,
   "pygments_lexer": "OCaml",
   "version": "4.11.1"
  },
  "orig_nbformat": 2
 },
 "nbformat": 4,
 "nbformat_minor": 2
}