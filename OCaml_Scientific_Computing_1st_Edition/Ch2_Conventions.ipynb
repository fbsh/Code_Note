{
 "cells": [
  {
   "cell_type": "code",
   "execution_count": 20,
   "id": "358ab004",
   "metadata": {},
   "outputs": [
    {
     "name": "stdout",
     "output_type": "stream",
     "text": [
      "- : unit = ()\n",
      "Findlib has been successfully loaded. Additional directives:\n",
      "  #require \"package\";;      to load a package\n",
      "  #list;;                   to list the available packages\n",
      "  #camlp4o;;                to load camlp4 (standard syntax)\n",
      "  #camlp4r;;                to load camlp4 (revised syntax)\n",
      "  #predicates \"p,q,...\";;   to set these predicates\n",
      "  Topfind.reset();;         to force that packages will be reloaded\n",
      "  #thread;;                 to enable threads\n",
      "\n",
      "- : unit = ()\n"
     ]
    }
   ],
   "source": [
    "#use \"topfind\"\n",
    "#require \"owl-jupyter\"\n",
    "open Owl_jupyter\n",
    "open Owl;;"
   ]
  },
  {
   "cell_type": "code",
   "execution_count": 21,
   "id": "1caf5b92",
   "metadata": {},
   "outputs": [
    {
     "data": {
      "text/plain": [
       "- : Owl.Arr.arr -> Owl.Arr.arr = <fun>\n"
      ]
     },
     "execution_count": 21,
     "metadata": {},
     "output_type": "execute_result"
    },
    {
     "data": {
      "text/plain": [
       "- : Owl.Arr.arr -> Owl.Arr.arr = <fun>\n"
      ]
     },
     "execution_count": 21,
     "metadata": {},
     "output_type": "execute_result"
    },
    {
     "data": {
      "text/plain": [
       "- : Owl.Arr.arr -> Owl.Arr.arr = <fun>\n"
      ]
     },
     "execution_count": 21,
     "metadata": {},
     "output_type": "execute_result"
    },
    {
     "data": {
      "text/plain": [
       "- : Owl.Arr.arr -> Owl.Arr.arr = <fun>\n"
      ]
     },
     "execution_count": 21,
     "metadata": {},
     "output_type": "execute_result"
    },
    {
     "data": {
      "text/plain": [
       "- : Owl.Arr.arr -> Owl.Arr.arr -> Owl.Arr.arr = <fun>\n"
      ]
     },
     "execution_count": 21,
     "metadata": {},
     "output_type": "execute_result"
    },
    {
     "data": {
      "text/plain": [
       "- : Owl.Arr.arr -> Owl.Arr.arr -> Owl.Arr.arr = <fun>\n"
      ]
     },
     "execution_count": 21,
     "metadata": {},
     "output_type": "execute_result"
    }
   ],
   "source": [
    "Arr.sin;;\n",
    "Arr.cos;;\n",
    "Arr.log;;\n",
    "Arr.abs;;\n",
    "Arr.add;;\n",
    "Arr.mul;;"
   ]
  },
  {
   "cell_type": "code",
   "execution_count": 22,
   "id": "fe906702",
   "metadata": {},
   "outputs": [
    {
     "data": {
      "text/plain": [
       "- : ?out:Owl.Arr.arr -> Owl.Arr.arr -> unit = <fun>\n"
      ]
     },
     "execution_count": 22,
     "metadata": {},
     "output_type": "execute_result"
    },
    {
     "data": {
      "text/plain": [
       "- : ?out:Owl.Arr.arr -> Owl.Arr.arr -> unit = <fun>\n"
      ]
     },
     "execution_count": 22,
     "metadata": {},
     "output_type": "execute_result"
    },
    {
     "data": {
      "text/plain": [
       "- : ?out:Owl.Arr.arr -> Owl.Arr.arr -> unit = <fun>\n"
      ]
     },
     "execution_count": 22,
     "metadata": {},
     "output_type": "execute_result"
    },
    {
     "data": {
      "text/plain": [
       "- : ?out:Owl.Arr.arr -> Owl.Arr.arr -> unit = <fun>\n"
      ]
     },
     "execution_count": 22,
     "metadata": {},
     "output_type": "execute_result"
    },
    {
     "data": {
      "text/plain": [
       "- : ?out:Owl.Arr.arr -> Owl.Arr.arr -> Owl.Arr.arr -> unit = <fun>\n"
      ]
     },
     "execution_count": 22,
     "metadata": {},
     "output_type": "execute_result"
    },
    {
     "data": {
      "text/plain": [
       "- : ?out:Owl.Arr.arr -> Owl.Arr.arr -> Owl.Arr.arr -> unit = <fun>\n"
      ]
     },
     "execution_count": 22,
     "metadata": {},
     "output_type": "execute_result"
    }
   ],
   "source": [
    "Arr.sin_;;\n",
    "Arr.cos_;;\n",
    "Arr.log_;;\n",
    "Arr.abs_;;\n",
    "Arr.add_;;\n",
    "Arr.mul_;;"
   ]
  },
  {
   "cell_type": "code",
   "execution_count": 12,
   "id": "b5d02710",
   "metadata": {},
   "outputs": [
    {
     "data": {
      "text/plain": [
       "val add1 : float -> float = <fun>\n"
      ]
     },
     "execution_count": 12,
     "metadata": {},
     "output_type": "execute_result"
    },
    {
     "data": {
      "text/plain": [
       "- : float = 3.\n"
      ]
     },
     "execution_count": 12,
     "metadata": {},
     "output_type": "execute_result"
    }
   ],
   "source": [
    "let add1 x = x +. 1.;;\n",
    "add1 2. ;;"
   ]
  },
  {
   "cell_type": "code",
   "execution_count": 19,
   "id": "dc35135d",
   "metadata": {},
   "outputs": [
    {
     "ename": "error",
     "evalue": "compile_error",
     "output_type": "error",
     "traceback": [
      "File \"[19]\", line 1, characters 8-10:\n1 | Arr.sin pi\n            ^^\nError: This expression has type float but an expression was expected of type\n         Owl.Arr.arr =\n           (float, Bigarray.float64_elt, Bigarray.c_layout)\n           Bigarray.Genarray.t\n"
     ]
    }
   ],
   "source": [
    "Arr.sin pi"
   ]
  },
  {
   "cell_type": "code",
   "execution_count": 23,
   "id": "051d2d31",
   "metadata": {},
   "outputs": [
    {
     "data": {
      "text/plain": [
       "val pi : float = 3.14159265358979312\n"
      ]
     },
     "execution_count": 23,
     "metadata": {},
     "output_type": "execute_result"
    },
    {
     "data": {
      "text/plain": [
       "- : float = 3.14159265358979312\n"
      ]
     },
     "execution_count": 23,
     "metadata": {},
     "output_type": "execute_result"
    }
   ],
   "source": [
    "let pi = Float.pi ;;\n",
    "pi"
   ]
  },
  {
   "cell_type": "code",
   "execution_count": 24,
   "id": "7bd2cc43",
   "metadata": {},
   "outputs": [
    {
     "ename": "error",
     "evalue": "compile_error",
     "output_type": "error",
     "traceback": [
      "File \"[24]\", line 1, characters 9-10:\n1 | Arr.add_ 1 + 2;;\n             ^\nError: This expression has type int but an expression was expected of type\n         Owl.Arr.arr =\n           (float, Bigarray.float64_elt, Bigarray.c_layout)\n           Bigarray.Genarray.t\n"
     ]
    }
   ],
   "source": [
    "Arr.add_ 1 + 2;;"
   ]
  },
  {
   "cell_type": "code",
   "execution_count": 25,
   "id": "bc65fe43",
   "metadata": {},
   "outputs": [
    {
     "data": {
      "text/plain": [
       "val x : Owl.Arr.arr =\n",
       "  \n",
       "       C0 C1 C2 \n",
       "R[0,0]  0  1  2 \n",
       "R[0,1]  3  4  5 \n",
       "R[0,2]  6  7  8 \n",
       "R[1,0]  9 10 11 \n",
       "R[1,1] 12 13 14 \n",
       "R[1,2] 15 16 17 \n",
       "R[2,0] 18 19 20 \n",
       "R[2,1] 21 22 23 \n",
       "R[2,2] 24 25 26 \n",
       "\n"
      ]
     },
     "execution_count": 25,
     "metadata": {},
     "output_type": "execute_result"
    },
    {
     "data": {
      "text/plain": [
       "val a : Owl.Arr.arr =\n",
       "  \n",
       "       C0 C1 C2 \n",
       "R[0,0]  9 12 15 \n",
       "R[1,0] 36 39 42 \n",
       "R[2,0] 63 66 69 \n",
       "\n"
      ]
     },
     "execution_count": 25,
     "metadata": {},
     "output_type": "execute_result"
    },
    {
     "data": {
      "text/plain": [
       "val b : Owl.Arr.arr = \n",
       "   C0 \n",
       "R 351 \n",
       "\n"
      ]
     },
     "execution_count": 25,
     "metadata": {},
     "output_type": "execute_result"
    }
   ],
   "source": [
    "let x = Arr.sequential [|3;3;3|];;\n",
    "let a = Arr.sum ~axis:1 x;;\n",
    "let b = Arr.sum x;;"
   ]
  },
  {
   "cell_type": "code",
   "execution_count": 26,
   "id": "36962fbc",
   "metadata": {},
   "outputs": [
    {
     "data": {
      "text/plain": [
       "- : float = 361.\n"
      ]
     },
     "execution_count": 26,
     "metadata": {},
     "output_type": "execute_result"
    }
   ],
   "source": [
    "let c = Arr.get b [|0|] in\n",
    "c +. 10.;;"
   ]
  },
  {
   "cell_type": "code",
   "execution_count": 27,
   "id": "2b679c2f",
   "metadata": {},
   "outputs": [
    {
     "data": {
      "text/plain": [
       "- : ?axis:int -> ?keep_dims:bool -> Owl.Arr.arr -> Owl.Arr.arr = <fun>\n"
      ]
     },
     "execution_count": 27,
     "metadata": {},
     "output_type": "execute_result"
    },
    {
     "data": {
      "text/plain": [
       "- : ?axis:int -> ?keep_dims:bool -> Owl.Arr.arr -> Owl.Arr.arr = <fun>\n"
      ]
     },
     "execution_count": 27,
     "metadata": {},
     "output_type": "execute_result"
    },
    {
     "data": {
      "text/plain": [
       "- : ?axis:int -> ?keep_dims:bool -> Owl.Arr.arr -> Owl.Arr.arr = <fun>\n"
      ]
     },
     "execution_count": 27,
     "metadata": {},
     "output_type": "execute_result"
    },
    {
     "data": {
      "text/plain": [
       "- : ?axis:int -> ?keep_dims:bool -> Owl.Arr.arr -> Owl.Arr.arr = <fun>\n"
      ]
     },
     "execution_count": 27,
     "metadata": {},
     "output_type": "execute_result"
    },
    {
     "data": {
      "text/plain": [
       "- : ?axis:int -> ?keep_dims:bool -> Owl.Arr.arr -> Owl.Arr.arr = <fun>\n"
      ]
     },
     "execution_count": 27,
     "metadata": {},
     "output_type": "execute_result"
    }
   ],
   "source": [
    "Arr.sum;;\n",
    "Arr.min;;\n",
    "Arr.prod;;\n",
    "Arr.mean;;\n",
    "Arr.std;;"
   ]
  },
  {
   "cell_type": "code",
   "execution_count": 28,
   "id": "4f1e9746",
   "metadata": {},
   "outputs": [
    {
     "data": {
      "text/plain": [
       "- : Owl.Arr.arr -> Owl.Arr.elt = <fun>\n"
      ]
     },
     "execution_count": 28,
     "metadata": {},
     "output_type": "execute_result"
    },
    {
     "data": {
      "text/plain": [
       "- : Owl.Arr.arr -> Owl.Arr.elt = <fun>\n"
      ]
     },
     "execution_count": 28,
     "metadata": {},
     "output_type": "execute_result"
    },
    {
     "data": {
      "text/plain": [
       "- : Owl.Arr.arr -> Owl.Arr.elt = <fun>\n"
      ]
     },
     "execution_count": 28,
     "metadata": {},
     "output_type": "execute_result"
    },
    {
     "data": {
      "text/plain": [
       "- : Owl.Arr.arr -> Owl.Arr.elt = <fun>\n"
      ]
     },
     "execution_count": 28,
     "metadata": {},
     "output_type": "execute_result"
    },
    {
     "data": {
      "text/plain": [
       "- : Owl.Arr.arr -> Owl.Arr.elt = <fun>\n"
      ]
     },
     "execution_count": 28,
     "metadata": {},
     "output_type": "execute_result"
    }
   ],
   "source": [
    "Arr.sum';;\n",
    "Arr.min';;\n",
    "Arr.prod';;\n",
    "Arr.mean';;\n",
    "Arr.std';;"
   ]
  },
  {
   "cell_type": "code",
   "execution_count": 29,
   "id": "87a909cb",
   "metadata": {},
   "outputs": [
    {
     "data": {
      "text/plain": [
       "val sum' : Owl.Arr.arr -> Owl.Arr.elt = <fun>\n"
      ]
     },
     "execution_count": 29,
     "metadata": {},
     "output_type": "execute_result"
    }
   ],
   "source": [
    "let sum' x =\n",
    "  let y = Arr.sum x in\n",
    "  Arr.get y [|0|]"
   ]
  },
  {
   "cell_type": "code",
   "execution_count": 30,
   "id": "2abc3633",
   "metadata": {},
   "outputs": [
    {
     "data": {
      "text/plain": [
       "val x : Owl.Arr.arr =\n",
       "  \n",
       "       C0 C1 C2 \n",
       "R[0,0]  0  1  2 \n",
       "R[0,1]  3  4  5 \n",
       "R[0,2]  6  7  8 \n",
       "R[1,0]  9 10 11 \n",
       "R[1,1] 12 13 14 \n",
       "R[1,2] 15 16 17 \n",
       "R[2,0] 18 19 20 \n",
       "R[2,1] 21 22 23 \n",
       "R[2,2] 24 25 26 \n",
       "\n"
      ]
     },
     "execution_count": 30,
     "metadata": {},
     "output_type": "execute_result"
    },
    {
     "data": {
      "text/plain": [
       "val a : Owl.Arr.arr =\n",
       "  \n",
       "       C0 C1 C2 \n",
       "R[0,0]  9 12 15 \n",
       "R[1,0] 36 39 42 \n",
       "R[2,0] 63 66 69 \n",
       "\n"
      ]
     },
     "execution_count": 30,
     "metadata": {},
     "output_type": "execute_result"
    },
    {
     "data": {
      "text/plain": [
       "val b : Owl.Arr.arr = \n",
       "   C0 \n",
       "R 351 \n",
       "\n"
      ]
     },
     "execution_count": 30,
     "metadata": {},
     "output_type": "execute_result"
    },
    {
     "data": {
      "text/plain": [
       "val c : Owl.Arr.elt = 351.\n"
      ]
     },
     "execution_count": 30,
     "metadata": {},
     "output_type": "execute_result"
    }
   ],
   "source": [
    "let x = Arr.sequential [|3;3;3|];;\n",
    "let a = Arr.sum ~axis:1 x;;\n",
    "let b = Arr.sum x;;\n",
    "let c = Arr.sum' x;;"
   ]
  },
  {
   "cell_type": "code",
   "execution_count": 31,
   "id": "437ddd23",
   "metadata": {},
   "outputs": [
    {
     "data": {
      "text/plain": [
       "val x : Owl.Mat.mat =\n",
       "  \n",
       "          C0       C1       C2        C3       C4 \n",
       "R0  0.674357 0.589297  0.50357  0.810552 0.923359 \n",
       "R1  0.921511 0.220219 0.936094  0.967111 0.607309 \n",
       "R2  0.664731 0.792159 0.998365 0.0732321 0.306026 \n",
       "R3 0.0150086 0.182411 0.336765  0.604149 0.891525 \n",
       "R4  0.897156 0.813225 0.285384  0.358062 0.341074 \n",
       "\n"
      ]
     },
     "execution_count": 31,
     "metadata": {},
     "output_type": "execute_result"
    },
    {
     "data": {
      "text/plain": [
       "val y : Owl.Mat.mat =\n",
       "  \n",
       "          C0       C1       C2       C3       C4 \n",
       "R0  0.765009 0.336276 0.581805 0.879151 0.125699 \n",
       "R1 0.0506882 0.321302 0.770026 0.627103 0.684888 \n",
       "R2  0.491191 0.111375 0.979258 0.223764 0.809962 \n",
       "R3  0.917844 0.316858 0.559118 0.886123 0.147214 \n",
       "R4   0.62694 0.888351 0.960466 0.328754 0.707321 \n",
       "\n"
      ]
     },
     "execution_count": 31,
     "metadata": {},
     "output_type": "execute_result"
    },
    {
     "data": {
      "text/plain": [
       "- : (float, Bigarray.float64_elt) Owl_dense_matrix_generic.t =\n",
       "\n",
       "         C0       C1       C2       C3      C4 \n",
       "R0  1.43937 0.925573  1.08538   1.6897 1.04906 \n",
       "R1 0.972199 0.541521  1.70612  1.59421  1.2922 \n",
       "R2  1.15592 0.903534  1.97762 0.296996 1.11599 \n",
       "R3 0.932853 0.499269 0.895884  1.49027 1.03874 \n",
       "R4   1.5241  1.70158  1.24585 0.686816  1.0484 \n",
       "\n"
      ]
     },
     "execution_count": 31,
     "metadata": {},
     "output_type": "execute_result"
    },
    {
     "data": {
      "text/plain": [
       "- : (float, Bigarray.float64_elt) Owl_dense_matrix_generic.t =\n",
       "\n",
       "          C0        C1       C2        C3       C4 \n",
       "R0  0.515889  0.198167  0.29298  0.712597 0.116065 \n",
       "R1 0.0467097 0.0707569 0.720817  0.606478 0.415939 \n",
       "R2   0.32651 0.0882268 0.977658 0.0163867 0.247869 \n",
       "R3 0.0137756 0.0577982 0.188292   0.53535 0.131245 \n",
       "R4  0.562463  0.722429 0.274102  0.117714 0.241249 \n",
       "\n"
      ]
     },
     "execution_count": 31,
     "metadata": {},
     "output_type": "execute_result"
    },
    {
     "data": {
      "text/plain": [
       "- : (float, Bigarray.float64_elt) Owl_dense_matrix_generic.t =\n",
       "\n",
       "          C0       C1       C2       C3       C4 \n",
       "R0  0.739775 0.837084 0.670899  0.83139 0.990027 \n",
       "R1  0.995865 0.614976 0.950419 0.979247 0.710656 \n",
       "R2  0.818249 0.974384 0.998399 0.557136 0.383251 \n",
       "R3 0.0211917 0.583254 0.544152 0.639833 0.983239 \n",
       "R4  0.934224 0.832215 0.299888 0.713447 0.467276 \n",
       "\n"
      ]
     },
     "execution_count": 31,
     "metadata": {},
     "output_type": "execute_result"
    },
    {
     "data": {
      "text/plain": [
       "- : (float, Bigarray.float64_elt) Owl_dense_matrix_generic.t =\n",
       "\n",
       "        C0       C1      C2      C3      C4 \n",
       "R0 2.11596  1.54929 2.67929  2.0969 1.66868 \n",
       "R1 2.44433  1.33084 2.74642 2.21434 1.59679 \n",
       "R2 1.29814 0.884311 2.30926 1.47006 1.66197 \n",
       "R3 1.29959  1.08458 1.67304 1.03138 1.11912 \n",
       "R4 1.41021  1.01122 1.95543 1.79199 1.19485 \n",
       "\n"
      ]
     },
     "execution_count": 31,
     "metadata": {},
     "output_type": "execute_result"
    },
    {
     "data": {
      "text/plain": [
       "- : bool = false\n"
      ]
     },
     "execution_count": 31,
     "metadata": {},
     "output_type": "execute_result"
    },
    {
     "data": {
      "text/plain": [
       "- : (float, Bigarray.float64_elt) Owl_dense_matrix_generic.t =\n",
       "\n",
       "   C0 C1 C2 C3 C4 \n",
       "R0  0  1  0  0  1 \n",
       "R1  1  0  1  1  0 \n",
       "R2  1  1  1  0  0 \n",
       "R3  0  0  0  0  1 \n",
       "R4  1  0  0  1  0 \n",
       "\n"
      ]
     },
     "execution_count": 31,
     "metadata": {},
     "output_type": "execute_result"
    }
   ],
   "source": [
    "let x = Mat.uniform 5 5;;\n",
    "let y = Mat.uniform 5 5;;\n",
    "\n",
    "Mat.(x + y);;\n",
    "Mat.(x * y);;\n",
    "Mat.(x ** y);;\n",
    "Mat.(x *@ y);;\n",
    "\n",
    "(* compare the returns of the following two *)\n",
    "\n",
    "Mat.(x > y);;\n",
    "Mat.(x >. y);;"
   ]
  },
  {
   "cell_type": "code",
   "execution_count": 32,
   "id": "bf3cedce",
   "metadata": {},
   "outputs": [
    {
     "data": {
      "text/plain": [
       "- : bool = false\n"
      ]
     },
     "execution_count": 32,
     "metadata": {},
     "output_type": "execute_result"
    }
   ],
   "source": [
    "Mat.(x > y);;"
   ]
  },
  {
   "cell_type": "code",
   "execution_count": 33,
   "id": "570cfd64",
   "metadata": {},
   "outputs": [
    {
     "data": {
      "text/plain": [
       "- : (float, Bigarray.float64_elt) Owl_dense_matrix_generic.t =\n",
       "\n",
       "   C0 C1 C2 C3 C4 \n",
       "R0  0  1  0  0  1 \n",
       "R1  1  0  1  1  0 \n",
       "R2  1  1  1  0  0 \n",
       "R3  0  0  0  0  1 \n",
       "R4  1  0  0  1  0 \n",
       "\n"
      ]
     },
     "execution_count": 33,
     "metadata": {},
     "output_type": "execute_result"
    }
   ],
   "source": [
    "Mat.(x >. y);;"
   ]
  },
  {
   "cell_type": "code",
   "execution_count": null,
   "id": "2db960bc",
   "metadata": {},
   "outputs": [],
   "source": []
  }
 ],
 "metadata": {
  "kernelspec": {
   "display_name": "OCaml 4.11.1",
   "language": "OCaml",
   "name": "ocaml-jupyter"
  },
  "language_info": {
   "codemirror_mode": "text/x-ocaml",
   "file_extension": ".ml",
   "mimetype": "text/x-ocaml",
   "name": "OCaml",
   "nbconverter_exporter": null,
   "pygments_lexer": "OCaml",
   "version": "4.11.1"
  }
 },
 "nbformat": 4,
 "nbformat_minor": 5
}
